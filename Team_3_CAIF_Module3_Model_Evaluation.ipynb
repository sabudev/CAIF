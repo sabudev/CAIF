{
  "nbformat": 4,
  "nbformat_minor": 0,
  "metadata": {
    "colab": {
      "name": "Team-3-CAIF-Module2-Data-Exploration.ipynb",
      "provenance": [],
      "collapsed_sections": [],
      "include_colab_link": true
    },
    "kernelspec": {
      "display_name": "Python 3.7",
      "language": "python",
      "name": "python3"
    },
    "language_info": {
      "codemirror_mode": {
        "name": "ipython",
        "version": 3
      },
      "file_extension": ".py",
      "mimetype": "text/x-python",
      "name": "python",
      "nbconvert_exporter": "python",
      "pygments_lexer": "ipython3",
      "version": "3.7.10"
    }
  },
  "cells": [
    {
      "cell_type": "markdown",
      "metadata": {
        "id": "view-in-github",
        "colab_type": "text"
      },
      "source": [
        "<a href=\"https://colab.research.google.com/github/sabudev/CAIF/blob/main/Team_3_CAIF_Module3_Model_Evaluation.ipynb\" target=\"_parent\"><img src=\"https://colab.research.google.com/assets/colab-badge.svg\" alt=\"Open In Colab\"/></a>"
      ]
    },
    {
      "cell_type": "markdown",
      "metadata": {
        "id": "oWWw3e6kqecn"
      },
      "source": [
        "# Team 3 - CAIF Module 3 Model Evaluation"
      ]
    },
    {
      "cell_type": "markdown",
      "metadata": {
        "id": "CsEL5sDk0sqj"
      },
      "source": [
        "#### In this Python notebook we look at a tmdb dataset that contains diverse attributes of selected movies. The notebook focuses on doing simple descriptive analysis of the data, including summarization and visualization"
      ]
    },
    {
      "cell_type": "code",
      "metadata": {
        "id": "Vk33gmkJvtPq",
        "scrolled": true
      },
      "source": [
        "import pandas as pd\n",
        "import numpy as np\n",
        "import matplotlib.pyplot as plt\n",
        "import seaborn as sns\n",
        "from datetime import datetime, date\n",
        "from sklearn.impute import SimpleImputer"
      ],
      "execution_count": 108,
      "outputs": []
    },
    {
      "cell_type": "markdown",
      "metadata": {
        "id": "XeuwOF6Cqect"
      },
      "source": [
        "We had to adjust the column headings of the CSV files to match between datasets, for e.g. TMDB ID to movie_id, add missing column titles etc. \n",
        "We also had to remove some junk data from the CSV files as they were not in the column format"
      ]
    },
    {
      "cell_type": "markdown",
      "metadata": {
        "id": "T3rpqyyT7Y46"
      },
      "source": [
        "### Load all available tmdb data from git to access the data files"
      ]
    },
    {
      "cell_type": "code",
      "metadata": {
        "colab": {
          "base_uri": "https://localhost:8080/"
        },
        "id": "tDPuqkVr7YEH",
        "scrolled": true,
        "outputId": "ff74f8ed-ade9-420d-d851-8f1a905fedc7"
      },
      "source": [
        "! rm -Rf ./CAIF\n",
        "! git clone https://github.com/sabudev/CAIF.git"
      ],
      "execution_count": null,
      "outputs": [
        {
          "output_type": "stream",
          "text": [
            "Cloning into 'CAIF'...\n",
            "remote: Enumerating objects: 50, done.\u001b[K\n",
            "remote: Counting objects: 100% (50/50), done.\u001b[K\n",
            "remote: Compressing objects: 100% (37/37), done.\u001b[K\n",
            "remote: Total 50 (delta 22), reused 28 (delta 13), pack-reused 0\u001b[K\n",
            "Unpacking objects: 100% (50/50), done.\n"
          ],
          "name": "stdout"
        }
      ]
    },
    {
      "cell_type": "markdown",
      "metadata": {
        "id": "sUYn-uyKqecu"
      },
      "source": [
        "Read genres, and attributes files\n",
        "Use escapechar='\\\\' to accomdate for escaped characters in the CSV file, if we don't provide this it was failing to read data correctly from file."
      ]
    },
    {
      "cell_type": "code",
      "metadata": {
        "id": "40rVUJPGvtPs",
        "scrolled": false
      },
      "source": [
        "genres_csv = pd.read_csv('CAIF/tmdb_genres.csv', escapechar='\\\\')\n",
        "tmdb_attributes_csv = pd.read_csv('CAIF/tmdb_attributes.csv', escapechar='\\\\')\n",
        "links_csv = pd.read_csv('CAIF/links.csv', escapechar='\\\\')\n",
        "imdb_attributes_csv = pd.read_csv('CAIF/imdb_attributes.csv', escapechar='\\\\')"
      ],
      "execution_count": 109,
      "outputs": []
    },
    {
      "cell_type": "code",
      "metadata": {
        "id": "tvKE7oK5NEwb"
      },
      "source": [
        "#tmdb_attributes_csv.info()"
      ],
      "execution_count": 71,
      "outputs": []
    },
    {
      "cell_type": "code",
      "metadata": {
        "id": "qQ5pYRu8bAKb",
        "outputId": "ae74b255-57de-4aae-d79c-e06c3ae2b47b",
        "colab": {
          "base_uri": "https://localhost:8080/"
        }
      },
      "source": [
        "# Remove all rows without a release date\n",
        "tmdb_attributes_csv = tmdb_attributes_csv[tmdb_attributes_csv['release_date'].notna()]\n",
        "cols = [\"budget\",\"revenue\"]\n",
        "tmdb_attributes_csv[cols] = tmdb_attributes_csv[cols].replace({0:np.nan})\n",
        "tmdb_attributes_csv.info()"
      ],
      "execution_count": 112,
      "outputs": [
        {
          "output_type": "stream",
          "text": [
            "<class 'pandas.core.frame.DataFrame'>\n",
            "Int64Index: 4802 entries, 0 to 4802\n",
            "Data columns (total 12 columns):\n",
            " #   Column             Non-Null Count  Dtype  \n",
            "---  ------             --------------  -----  \n",
            " 0   budget             3766 non-null   float64\n",
            " 1   tmdb_id            4802 non-null   int64  \n",
            " 2   original_language  4802 non-null   object \n",
            " 3   original_title     4802 non-null   object \n",
            " 4   popularity         4802 non-null   float64\n",
            " 5   release_date       4802 non-null   object \n",
            " 6   revenue            3376 non-null   float64\n",
            " 7   runtime            4800 non-null   float64\n",
            " 8   tagline            3959 non-null   object \n",
            " 9   title              4802 non-null   object \n",
            " 10  vote_average       4802 non-null   float64\n",
            " 11  vote_count         4802 non-null   int64  \n",
            "dtypes: float64(5), int64(2), object(5)\n",
            "memory usage: 487.7+ KB\n"
          ],
          "name": "stdout"
        }
      ]
    },
    {
      "cell_type": "code",
      "metadata": {
        "id": "BZS-_FNbYkgc"
      },
      "source": [
        "# Function to calculate age given a date, we will use this to calculate\n",
        "# age of a movie\n",
        "def age(releaseDate):\n",
        "    releaseDate = datetime.strptime(releaseDate, \"%m/%d/%y\").date()\n",
        "    today = date.today()\n",
        "    return today.year - releaseDate.year - ((today.month, \n",
        "                                      today.day) < (releaseDate.month, \n",
        "                                                    releaseDate.day))"
      ],
      "execution_count": 113,
      "outputs": []
    },
    {
      "cell_type": "code",
      "metadata": {
        "id": "9FZR2CbPZEtn"
      },
      "source": [
        "tmdb_attributes_csv['age']=tmdb_attributes_csv['release_date'].apply(age)\n",
        "#tmdb_attributes_csv"
      ],
      "execution_count": 114,
      "outputs": []
    },
    {
      "cell_type": "code",
      "metadata": {
        "id": "0Urlnei7PIrE"
      },
      "source": [
        "# Drop few categorial values from dataframe\n",
        "tmdb_attributes_csv.drop(['original_language','original_title','release_date','tagline', 'title'], axis=1, inplace=True)\n",
        "#tmdb_attributes_csv"
      ],
      "execution_count": 115,
      "outputs": []
    },
    {
      "cell_type": "code",
      "metadata": {
        "id": "WD6gfGiJOaFr"
      },
      "source": [
        "imdb_attributes_csv.drop(['title','url','duration','year'], axis=1, inplace=True)\n",
        "#imdb_attributes_csv"
      ],
      "execution_count": 116,
      "outputs": []
    },
    {
      "cell_type": "code",
      "metadata": {
        "id": "aNyjaCen61pp",
        "scrolled": false,
        "colab": {
          "base_uri": "https://localhost:8080/"
        },
        "outputId": "b74df978-2b18-419e-f60e-410a44dc2eff"
      },
      "source": [
        "# Merge tmdb and imdb columns using links_csv provided\n",
        "df=tmdb_attributes_csv.merge(links_csv, on='tmdb_id',how='left')\n",
        "df=df.merge(imdb_attributes_csv, on=\"imdb_id\", how=\"left\")\n",
        "i = SimpleImputer(missing_values=np.nan, strategy='most_frequent')\n",
        "df.imdbRating = i.fit_transform(df['imdbRating'].values.reshape(-1,1))[:,0]\n",
        "df.nrOfNominations = i.fit_transform(df['nrOfNominations'].values.reshape(-1,1))[:,0]\n",
        "df.nrOfWins = i.fit_transform(df['nrOfWins'].values.reshape(-1,1))[:,0]\n",
        "\n",
        "df.info()"
      ],
      "execution_count": 120,
      "outputs": [
        {
          "output_type": "stream",
          "text": [
            "<class 'pandas.core.frame.DataFrame'>\n",
            "Int64Index: 4803 entries, 0 to 4802\n",
            "Data columns (total 13 columns):\n",
            " #   Column           Non-Null Count  Dtype  \n",
            "---  ------           --------------  -----  \n",
            " 0   budget           3767 non-null   float64\n",
            " 1   tmdb_id          4803 non-null   int64  \n",
            " 2   popularity       4803 non-null   float64\n",
            " 3   revenue          3377 non-null   float64\n",
            " 4   runtime          4801 non-null   float64\n",
            " 5   vote_average     4803 non-null   float64\n",
            " 6   vote_count       4803 non-null   int64  \n",
            " 7   age              4803 non-null   int64  \n",
            " 8   imdb_id          3537 non-null   object \n",
            " 9   movie_id         3537 non-null   float64\n",
            " 10  imdbRating       4803 non-null   float64\n",
            " 11  nrOfWins         4803 non-null   object \n",
            " 12  nrOfNominations  4803 non-null   float64\n",
            "dtypes: float64(8), int64(3), object(2)\n",
            "memory usage: 525.3+ KB\n"
          ],
          "name": "stdout"
        }
      ]
    },
    {
      "cell_type": "markdown",
      "metadata": {
        "id": "y-FWUGBAW_0l"
      },
      "source": [
        "The imdb dataset doesn't have all the tmdb movies, only 1827 out of 4804 have nrOfWins data, we will drop this from our dataframe for now."
      ]
    },
    {
      "cell_type": "code",
      "metadata": {
        "id": "9oMA2NolQmRO"
      },
      "source": [
        "df.drop(['imdb_id','tmdb_id','movie_id', 'imdbRating', 'nrOfWins', 'nrOfNominations'], axis=1, inplace=True)"
      ],
      "execution_count": 102,
      "outputs": []
    },
    {
      "cell_type": "code",
      "metadata": {
        "id": "07lLKncBQmN1",
        "colab": {
          "base_uri": "https://localhost:8080/",
          "height": 423
        },
        "outputId": "5f8228d7-1944-4719-c609-0671834536fa"
      },
      "source": [
        "df"
      ],
      "execution_count": 103,
      "outputs": [
        {
          "output_type": "execute_result",
          "data": {
            "text/html": [
              "<div>\n",
              "<style scoped>\n",
              "    .dataframe tbody tr th:only-of-type {\n",
              "        vertical-align: middle;\n",
              "    }\n",
              "\n",
              "    .dataframe tbody tr th {\n",
              "        vertical-align: top;\n",
              "    }\n",
              "\n",
              "    .dataframe thead th {\n",
              "        text-align: right;\n",
              "    }\n",
              "</style>\n",
              "<table border=\"1\" class=\"dataframe\">\n",
              "  <thead>\n",
              "    <tr style=\"text-align: right;\">\n",
              "      <th></th>\n",
              "      <th>budget</th>\n",
              "      <th>popularity</th>\n",
              "      <th>revenue</th>\n",
              "      <th>runtime</th>\n",
              "      <th>vote_average</th>\n",
              "      <th>vote_count</th>\n",
              "      <th>age</th>\n",
              "      <th>id</th>\n",
              "      <th>genre</th>\n",
              "      <th>title</th>\n",
              "    </tr>\n",
              "  </thead>\n",
              "  <tbody>\n",
              "    <tr>\n",
              "      <th>0</th>\n",
              "      <td>237000000.0</td>\n",
              "      <td>150.437577</td>\n",
              "      <td>2.787965e+09</td>\n",
              "      <td>162.0</td>\n",
              "      <td>7.2</td>\n",
              "      <td>11800</td>\n",
              "      <td>11</td>\n",
              "      <td>0.0</td>\n",
              "      <td>Action</td>\n",
              "      <td>Avatar</td>\n",
              "    </tr>\n",
              "    <tr>\n",
              "      <th>1</th>\n",
              "      <td>237000000.0</td>\n",
              "      <td>150.437577</td>\n",
              "      <td>2.787965e+09</td>\n",
              "      <td>162.0</td>\n",
              "      <td>7.2</td>\n",
              "      <td>11800</td>\n",
              "      <td>11</td>\n",
              "      <td>1.0</td>\n",
              "      <td>Adventure</td>\n",
              "      <td>Avatar</td>\n",
              "    </tr>\n",
              "    <tr>\n",
              "      <th>2</th>\n",
              "      <td>237000000.0</td>\n",
              "      <td>150.437577</td>\n",
              "      <td>2.787965e+09</td>\n",
              "      <td>162.0</td>\n",
              "      <td>7.2</td>\n",
              "      <td>11800</td>\n",
              "      <td>11</td>\n",
              "      <td>2.0</td>\n",
              "      <td>Fantasy</td>\n",
              "      <td>Avatar</td>\n",
              "    </tr>\n",
              "    <tr>\n",
              "      <th>3</th>\n",
              "      <td>237000000.0</td>\n",
              "      <td>150.437577</td>\n",
              "      <td>2.787965e+09</td>\n",
              "      <td>162.0</td>\n",
              "      <td>7.2</td>\n",
              "      <td>11800</td>\n",
              "      <td>11</td>\n",
              "      <td>3.0</td>\n",
              "      <td>SciFi</td>\n",
              "      <td>Avatar</td>\n",
              "    </tr>\n",
              "    <tr>\n",
              "      <th>4</th>\n",
              "      <td>300000000.0</td>\n",
              "      <td>139.082615</td>\n",
              "      <td>9.610000e+08</td>\n",
              "      <td>169.0</td>\n",
              "      <td>6.9</td>\n",
              "      <td>4500</td>\n",
              "      <td>14</td>\n",
              "      <td>4.0</td>\n",
              "      <td>Adventure</td>\n",
              "      <td>Pirates of the Caribbean: At World's End</td>\n",
              "    </tr>\n",
              "    <tr>\n",
              "      <th>...</th>\n",
              "      <td>...</td>\n",
              "      <td>...</td>\n",
              "      <td>...</td>\n",
              "      <td>...</td>\n",
              "      <td>...</td>\n",
              "      <td>...</td>\n",
              "      <td>...</td>\n",
              "      <td>...</td>\n",
              "      <td>...</td>\n",
              "      <td>...</td>\n",
              "    </tr>\n",
              "    <tr>\n",
              "      <th>12187</th>\n",
              "      <td>NaN</td>\n",
              "      <td>1.444476</td>\n",
              "      <td>NaN</td>\n",
              "      <td>120.0</td>\n",
              "      <td>7.0</td>\n",
              "      <td>6</td>\n",
              "      <td>7</td>\n",
              "      <td>12156.0</td>\n",
              "      <td>Drama</td>\n",
              "      <td>Signed, Sealed, Delivered</td>\n",
              "    </tr>\n",
              "    <tr>\n",
              "      <th>12188</th>\n",
              "      <td>NaN</td>\n",
              "      <td>1.444476</td>\n",
              "      <td>NaN</td>\n",
              "      <td>120.0</td>\n",
              "      <td>7.0</td>\n",
              "      <td>6</td>\n",
              "      <td>7</td>\n",
              "      <td>12157.0</td>\n",
              "      <td>Romance</td>\n",
              "      <td>Signed, Sealed, Delivered</td>\n",
              "    </tr>\n",
              "    <tr>\n",
              "      <th>12189</th>\n",
              "      <td>NaN</td>\n",
              "      <td>1.444476</td>\n",
              "      <td>NaN</td>\n",
              "      <td>120.0</td>\n",
              "      <td>7.0</td>\n",
              "      <td>6</td>\n",
              "      <td>7</td>\n",
              "      <td>12158.0</td>\n",
              "      <td>TV Movie</td>\n",
              "      <td>Signed, Sealed, Delivered</td>\n",
              "    </tr>\n",
              "    <tr>\n",
              "      <th>12190</th>\n",
              "      <td>NaN</td>\n",
              "      <td>0.857008</td>\n",
              "      <td>NaN</td>\n",
              "      <td>98.0</td>\n",
              "      <td>5.7</td>\n",
              "      <td>7</td>\n",
              "      <td>9</td>\n",
              "      <td>NaN</td>\n",
              "      <td>NaN</td>\n",
              "      <td>NaN</td>\n",
              "    </tr>\n",
              "    <tr>\n",
              "      <th>12191</th>\n",
              "      <td>NaN</td>\n",
              "      <td>1.929883</td>\n",
              "      <td>NaN</td>\n",
              "      <td>90.0</td>\n",
              "      <td>6.3</td>\n",
              "      <td>16</td>\n",
              "      <td>16</td>\n",
              "      <td>12159.0</td>\n",
              "      <td>Documentary</td>\n",
              "      <td>My Date with Drew</td>\n",
              "    </tr>\n",
              "  </tbody>\n",
              "</table>\n",
              "<p>12192 rows × 10 columns</p>\n",
              "</div>"
            ],
            "text/plain": [
              "            budget  ...                                     title\n",
              "0      237000000.0  ...                                    Avatar\n",
              "1      237000000.0  ...                                    Avatar\n",
              "2      237000000.0  ...                                    Avatar\n",
              "3      237000000.0  ...                                    Avatar\n",
              "4      300000000.0  ...  Pirates of the Caribbean: At World's End\n",
              "...            ...  ...                                       ...\n",
              "12187          NaN  ...                 Signed, Sealed, Delivered\n",
              "12188          NaN  ...                 Signed, Sealed, Delivered\n",
              "12189          NaN  ...                 Signed, Sealed, Delivered\n",
              "12190          NaN  ...                                       NaN\n",
              "12191          NaN  ...                         My Date with Drew\n",
              "\n",
              "[12192 rows x 10 columns]"
            ]
          },
          "metadata": {
            "tags": []
          },
          "execution_count": 103
        }
      ]
    },
    {
      "cell_type": "code",
      "metadata": {
        "id": "B8UQ-qkDfxA3",
        "outputId": "7ec2ff2c-ea17-4ff2-d564-342469220307",
        "colab": {
          "base_uri": "https://localhost:8080/",
          "height": 441
        }
      },
      "source": [
        "df['vote_rating'] = pd.cut(df['vote_average'], [0, 3, 7, 10], labels=['low', 'medium', 'high'])\n",
        "df"
      ],
      "execution_count": 104,
      "outputs": [
        {
          "output_type": "execute_result",
          "data": {
            "text/html": [
              "<div>\n",
              "<style scoped>\n",
              "    .dataframe tbody tr th:only-of-type {\n",
              "        vertical-align: middle;\n",
              "    }\n",
              "\n",
              "    .dataframe tbody tr th {\n",
              "        vertical-align: top;\n",
              "    }\n",
              "\n",
              "    .dataframe thead th {\n",
              "        text-align: right;\n",
              "    }\n",
              "</style>\n",
              "<table border=\"1\" class=\"dataframe\">\n",
              "  <thead>\n",
              "    <tr style=\"text-align: right;\">\n",
              "      <th></th>\n",
              "      <th>budget</th>\n",
              "      <th>popularity</th>\n",
              "      <th>revenue</th>\n",
              "      <th>runtime</th>\n",
              "      <th>vote_average</th>\n",
              "      <th>vote_count</th>\n",
              "      <th>age</th>\n",
              "      <th>id</th>\n",
              "      <th>genre</th>\n",
              "      <th>title</th>\n",
              "      <th>vote_rating</th>\n",
              "    </tr>\n",
              "  </thead>\n",
              "  <tbody>\n",
              "    <tr>\n",
              "      <th>0</th>\n",
              "      <td>237000000.0</td>\n",
              "      <td>150.437577</td>\n",
              "      <td>2.787965e+09</td>\n",
              "      <td>162.0</td>\n",
              "      <td>7.2</td>\n",
              "      <td>11800</td>\n",
              "      <td>11</td>\n",
              "      <td>0.0</td>\n",
              "      <td>Action</td>\n",
              "      <td>Avatar</td>\n",
              "      <td>high</td>\n",
              "    </tr>\n",
              "    <tr>\n",
              "      <th>1</th>\n",
              "      <td>237000000.0</td>\n",
              "      <td>150.437577</td>\n",
              "      <td>2.787965e+09</td>\n",
              "      <td>162.0</td>\n",
              "      <td>7.2</td>\n",
              "      <td>11800</td>\n",
              "      <td>11</td>\n",
              "      <td>1.0</td>\n",
              "      <td>Adventure</td>\n",
              "      <td>Avatar</td>\n",
              "      <td>high</td>\n",
              "    </tr>\n",
              "    <tr>\n",
              "      <th>2</th>\n",
              "      <td>237000000.0</td>\n",
              "      <td>150.437577</td>\n",
              "      <td>2.787965e+09</td>\n",
              "      <td>162.0</td>\n",
              "      <td>7.2</td>\n",
              "      <td>11800</td>\n",
              "      <td>11</td>\n",
              "      <td>2.0</td>\n",
              "      <td>Fantasy</td>\n",
              "      <td>Avatar</td>\n",
              "      <td>high</td>\n",
              "    </tr>\n",
              "    <tr>\n",
              "      <th>3</th>\n",
              "      <td>237000000.0</td>\n",
              "      <td>150.437577</td>\n",
              "      <td>2.787965e+09</td>\n",
              "      <td>162.0</td>\n",
              "      <td>7.2</td>\n",
              "      <td>11800</td>\n",
              "      <td>11</td>\n",
              "      <td>3.0</td>\n",
              "      <td>SciFi</td>\n",
              "      <td>Avatar</td>\n",
              "      <td>high</td>\n",
              "    </tr>\n",
              "    <tr>\n",
              "      <th>4</th>\n",
              "      <td>300000000.0</td>\n",
              "      <td>139.082615</td>\n",
              "      <td>9.610000e+08</td>\n",
              "      <td>169.0</td>\n",
              "      <td>6.9</td>\n",
              "      <td>4500</td>\n",
              "      <td>14</td>\n",
              "      <td>4.0</td>\n",
              "      <td>Adventure</td>\n",
              "      <td>Pirates of the Caribbean: At World's End</td>\n",
              "      <td>medium</td>\n",
              "    </tr>\n",
              "    <tr>\n",
              "      <th>...</th>\n",
              "      <td>...</td>\n",
              "      <td>...</td>\n",
              "      <td>...</td>\n",
              "      <td>...</td>\n",
              "      <td>...</td>\n",
              "      <td>...</td>\n",
              "      <td>...</td>\n",
              "      <td>...</td>\n",
              "      <td>...</td>\n",
              "      <td>...</td>\n",
              "      <td>...</td>\n",
              "    </tr>\n",
              "    <tr>\n",
              "      <th>12187</th>\n",
              "      <td>NaN</td>\n",
              "      <td>1.444476</td>\n",
              "      <td>NaN</td>\n",
              "      <td>120.0</td>\n",
              "      <td>7.0</td>\n",
              "      <td>6</td>\n",
              "      <td>7</td>\n",
              "      <td>12156.0</td>\n",
              "      <td>Drama</td>\n",
              "      <td>Signed, Sealed, Delivered</td>\n",
              "      <td>medium</td>\n",
              "    </tr>\n",
              "    <tr>\n",
              "      <th>12188</th>\n",
              "      <td>NaN</td>\n",
              "      <td>1.444476</td>\n",
              "      <td>NaN</td>\n",
              "      <td>120.0</td>\n",
              "      <td>7.0</td>\n",
              "      <td>6</td>\n",
              "      <td>7</td>\n",
              "      <td>12157.0</td>\n",
              "      <td>Romance</td>\n",
              "      <td>Signed, Sealed, Delivered</td>\n",
              "      <td>medium</td>\n",
              "    </tr>\n",
              "    <tr>\n",
              "      <th>12189</th>\n",
              "      <td>NaN</td>\n",
              "      <td>1.444476</td>\n",
              "      <td>NaN</td>\n",
              "      <td>120.0</td>\n",
              "      <td>7.0</td>\n",
              "      <td>6</td>\n",
              "      <td>7</td>\n",
              "      <td>12158.0</td>\n",
              "      <td>TV Movie</td>\n",
              "      <td>Signed, Sealed, Delivered</td>\n",
              "      <td>medium</td>\n",
              "    </tr>\n",
              "    <tr>\n",
              "      <th>12190</th>\n",
              "      <td>NaN</td>\n",
              "      <td>0.857008</td>\n",
              "      <td>NaN</td>\n",
              "      <td>98.0</td>\n",
              "      <td>5.7</td>\n",
              "      <td>7</td>\n",
              "      <td>9</td>\n",
              "      <td>NaN</td>\n",
              "      <td>NaN</td>\n",
              "      <td>NaN</td>\n",
              "      <td>medium</td>\n",
              "    </tr>\n",
              "    <tr>\n",
              "      <th>12191</th>\n",
              "      <td>NaN</td>\n",
              "      <td>1.929883</td>\n",
              "      <td>NaN</td>\n",
              "      <td>90.0</td>\n",
              "      <td>6.3</td>\n",
              "      <td>16</td>\n",
              "      <td>16</td>\n",
              "      <td>12159.0</td>\n",
              "      <td>Documentary</td>\n",
              "      <td>My Date with Drew</td>\n",
              "      <td>medium</td>\n",
              "    </tr>\n",
              "  </tbody>\n",
              "</table>\n",
              "<p>12192 rows × 11 columns</p>\n",
              "</div>"
            ],
            "text/plain": [
              "            budget  ...  vote_rating\n",
              "0      237000000.0  ...         high\n",
              "1      237000000.0  ...         high\n",
              "2      237000000.0  ...         high\n",
              "3      237000000.0  ...         high\n",
              "4      300000000.0  ...       medium\n",
              "...            ...  ...          ...\n",
              "12187          NaN  ...       medium\n",
              "12188          NaN  ...       medium\n",
              "12189          NaN  ...       medium\n",
              "12190          NaN  ...       medium\n",
              "12191          NaN  ...       medium\n",
              "\n",
              "[12192 rows x 11 columns]"
            ]
          },
          "metadata": {
            "tags": []
          },
          "execution_count": 104
        }
      ]
    },
    {
      "cell_type": "code",
      "metadata": {
        "id": "Y6Zin6N6gkf1",
        "outputId": "d0de85bc-24b6-4bf2-b48d-479fceaff682",
        "colab": {
          "base_uri": "https://localhost:8080/",
          "height": 300
        }
      },
      "source": [
        "df.corr()"
      ],
      "execution_count": 105,
      "outputs": [
        {
          "output_type": "execute_result",
          "data": {
            "text/html": [
              "<div>\n",
              "<style scoped>\n",
              "    .dataframe tbody tr th:only-of-type {\n",
              "        vertical-align: middle;\n",
              "    }\n",
              "\n",
              "    .dataframe tbody tr th {\n",
              "        vertical-align: top;\n",
              "    }\n",
              "\n",
              "    .dataframe thead th {\n",
              "        text-align: right;\n",
              "    }\n",
              "</style>\n",
              "<table border=\"1\" class=\"dataframe\">\n",
              "  <thead>\n",
              "    <tr style=\"text-align: right;\">\n",
              "      <th></th>\n",
              "      <th>budget</th>\n",
              "      <th>popularity</th>\n",
              "      <th>revenue</th>\n",
              "      <th>runtime</th>\n",
              "      <th>vote_average</th>\n",
              "      <th>vote_count</th>\n",
              "      <th>age</th>\n",
              "      <th>id</th>\n",
              "    </tr>\n",
              "  </thead>\n",
              "  <tbody>\n",
              "    <tr>\n",
              "      <th>budget</th>\n",
              "      <td>1.000000</td>\n",
              "      <td>0.453006</td>\n",
              "      <td>0.706092</td>\n",
              "      <td>0.240512</td>\n",
              "      <td>0.019425</td>\n",
              "      <td>0.572178</td>\n",
              "      <td>-0.055765</td>\n",
              "      <td>-0.806931</td>\n",
              "    </tr>\n",
              "    <tr>\n",
              "      <th>popularity</th>\n",
              "      <td>0.453006</td>\n",
              "      <td>1.000000</td>\n",
              "      <td>0.606672</td>\n",
              "      <td>0.209589</td>\n",
              "      <td>0.273468</td>\n",
              "      <td>0.758229</td>\n",
              "      <td>-0.080511</td>\n",
              "      <td>-0.411256</td>\n",
              "    </tr>\n",
              "    <tr>\n",
              "      <th>revenue</th>\n",
              "      <td>0.706092</td>\n",
              "      <td>0.606672</td>\n",
              "      <td>1.000000</td>\n",
              "      <td>0.230621</td>\n",
              "      <td>0.199386</td>\n",
              "      <td>0.771354</td>\n",
              "      <td>-0.036124</td>\n",
              "      <td>-0.529351</td>\n",
              "    </tr>\n",
              "    <tr>\n",
              "      <th>runtime</th>\n",
              "      <td>0.240512</td>\n",
              "      <td>0.209589</td>\n",
              "      <td>0.230621</td>\n",
              "      <td>1.000000</td>\n",
              "      <td>0.354017</td>\n",
              "      <td>0.276049</td>\n",
              "      <td>-0.001360</td>\n",
              "      <td>-0.286219</td>\n",
              "    </tr>\n",
              "    <tr>\n",
              "      <th>vote_average</th>\n",
              "      <td>0.019425</td>\n",
              "      <td>0.273468</td>\n",
              "      <td>0.199386</td>\n",
              "      <td>0.354017</td>\n",
              "      <td>1.000000</td>\n",
              "      <td>0.333478</td>\n",
              "      <td>0.014048</td>\n",
              "      <td>-0.073422</td>\n",
              "    </tr>\n",
              "    <tr>\n",
              "      <th>vote_count</th>\n",
              "      <td>0.572178</td>\n",
              "      <td>0.758229</td>\n",
              "      <td>0.771354</td>\n",
              "      <td>0.276049</td>\n",
              "      <td>0.333478</td>\n",
              "      <td>1.000000</td>\n",
              "      <td>-0.070032</td>\n",
              "      <td>-0.458736</td>\n",
              "    </tr>\n",
              "    <tr>\n",
              "      <th>age</th>\n",
              "      <td>-0.055765</td>\n",
              "      <td>-0.080511</td>\n",
              "      <td>-0.036124</td>\n",
              "      <td>-0.001360</td>\n",
              "      <td>0.014048</td>\n",
              "      <td>-0.070032</td>\n",
              "      <td>1.000000</td>\n",
              "      <td>-0.050744</td>\n",
              "    </tr>\n",
              "    <tr>\n",
              "      <th>id</th>\n",
              "      <td>-0.806931</td>\n",
              "      <td>-0.411256</td>\n",
              "      <td>-0.529351</td>\n",
              "      <td>-0.286219</td>\n",
              "      <td>-0.073422</td>\n",
              "      <td>-0.458736</td>\n",
              "      <td>-0.050744</td>\n",
              "      <td>1.000000</td>\n",
              "    </tr>\n",
              "  </tbody>\n",
              "</table>\n",
              "</div>"
            ],
            "text/plain": [
              "                budget  popularity   revenue  ...  vote_count       age        id\n",
              "budget        1.000000    0.453006  0.706092  ...    0.572178 -0.055765 -0.806931\n",
              "popularity    0.453006    1.000000  0.606672  ...    0.758229 -0.080511 -0.411256\n",
              "revenue       0.706092    0.606672  1.000000  ...    0.771354 -0.036124 -0.529351\n",
              "runtime       0.240512    0.209589  0.230621  ...    0.276049 -0.001360 -0.286219\n",
              "vote_average  0.019425    0.273468  0.199386  ...    0.333478  0.014048 -0.073422\n",
              "vote_count    0.572178    0.758229  0.771354  ...    1.000000 -0.070032 -0.458736\n",
              "age          -0.055765   -0.080511 -0.036124  ...   -0.070032  1.000000 -0.050744\n",
              "id           -0.806931   -0.411256 -0.529351  ...   -0.458736 -0.050744  1.000000\n",
              "\n",
              "[8 rows x 8 columns]"
            ]
          },
          "metadata": {
            "tags": []
          },
          "execution_count": 105
        }
      ]
    },
    {
      "cell_type": "markdown",
      "metadata": {
        "id": "gzZZmseV61pp"
      },
      "source": [
        "### Read tmdb_attributes CSV data file"
      ]
    },
    {
      "cell_type": "code",
      "metadata": {
        "colab": {
          "base_uri": "https://localhost:8080/",
          "height": 283
        },
        "id": "XEruWpnAvtPt",
        "scrolled": true,
        "outputId": "72d7035c-2291-4ad5-c6c8-32101abf56df"
      },
      "source": [
        "attributes_csv['vote_average'].plot.hist()"
      ],
      "execution_count": null,
      "outputs": [
        {
          "output_type": "execute_result",
          "data": {
            "text/plain": [
              "<matplotlib.axes._subplots.AxesSubplot at 0x7fe32d0c4790>"
            ]
          },
          "metadata": {
            "tags": []
          },
          "execution_count": 7
        },
        {
          "output_type": "display_data",
          "data": {
            "image/png": "[encoded data removed]",
            "text/plain": [
              "<Figure size 432x288 with 1 Axes>"
            ]
          },
          "metadata": {
            "tags": [],
            "needs_background": "light"
          }
        }
      ]
    },
    {
      "cell_type": "markdown",
      "metadata": {
        "id": "lQZ_2Lbu3mpz"
      },
      "source": [
        "**Fancy histogram with header and axis labels. A similar logic can be used to construct any type of bar chart. In this case, we are treating points as a discrete (nominal) variable.**"
      ]
    },
    {
      "cell_type": "code",
      "metadata": {
        "colab": {
          "base_uri": "https://localhost:8080/",
          "height": 313
        },
        "id": "IexjNKUOvtPu",
        "scrolled": true,
        "outputId": "bab1f61a-0fff-41d7-830a-aaa2e2e64547"
      },
      "source": [
        "# create a figure and axis \n",
        "fig, ax = plt.subplots() \n",
        "\n",
        "# count the occurrence of each class \n",
        "data = attributes_csv['runtime'].value_counts() \n",
        "\n",
        "# get x and y data \n",
        "runtime = data.index \n",
        "frequency = data.values \n",
        "\n",
        "# create bar chart \n",
        "ax.bar(runtime, frequency) \n",
        "\n",
        "# set title and labels \n",
        "ax.set_title('Movie Runtimes') \n",
        "ax.set_xlabel('Runtime') \n",
        "ax.set_ylabel('Frequency')"
      ],
      "execution_count": null,
      "outputs": [
        {
          "output_type": "execute_result",
          "data": {
            "text/plain": [
              "Text(0, 0.5, 'Frequency')"
            ]
          },
          "metadata": {
            "tags": []
          },
          "execution_count": 20
        },
        {
          "output_type": "display_data",
          "data": {
            "image/png": "[encoded data removed]",
            "text/plain": [
              "<Figure size 432x288 with 1 Axes>"
            ]
          },
          "metadata": {
            "tags": [],
            "needs_background": "light"
          }
        }
      ]
    },
    {
      "cell_type": "markdown",
      "metadata": {
        "id": "4e_QAp1O61pt"
      },
      "source": [
        "### Check the correlation between numerical features to understand relationships in the data"
      ]
    },
    {
      "cell_type": "code",
      "metadata": {
        "id": "NfEClVkO61pt",
        "scrolled": false,
        "colab": {
          "base_uri": "https://localhost:8080/",
          "height": 625
        },
        "outputId": "0b510d0c-6d7c-4eb0-b178-75e032e7231e"
      },
      "source": [
        "plt.figure(figsize=(16, 10))\n",
        "corr = attributes_csv.drop([\"movie_id\"], axis=1).corr()\n",
        "mask = np.triu(np.ones_like(corr, dtype=np.bool))\n",
        "heatmap = sns.heatmap(corr, mask=mask, vmin=-1, vmax=1, annot=True, cbar_kws={\"shrink\": .5})\n",
        "heatmap.set_title('CORRELATION HEATMAP')"
      ],
      "execution_count": null,
      "outputs": [
        {
          "output_type": "execute_result",
          "data": {
            "text/plain": [
              "Text(0.5, 1.0, 'CORRELATION HEATMAP')"
            ]
          },
          "metadata": {
            "tags": []
          },
          "execution_count": 21
        },
        {
          "output_type": "display_data",
          "data": {
            "image/png": "[encoded data removed]",
            "text/plain": [
              "<Figure size 1152x720 with 2 Axes>"
            ]
          },
          "metadata": {
            "tags": [],
            "needs_background": "light"
          }
        }
      ]
    },
    {
      "cell_type": "markdown",
      "metadata": {
        "id": "bc1pnvDDqec3"
      },
      "source": [
        "Indicates there is correlation between budget and revenue. Also higher vote_count yields better revenue and popularity."
      ]
    }
  ]
}