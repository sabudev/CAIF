{
  "nbformat": 4,
  "nbformat_minor": 0,
  "metadata": {
    "colab": {
      "name": "Module II Exploratory Data Analysis TMDB.ipynb",
      "provenance": [],
      "collapsed_sections": [],
      "include_colab_link": true
    },
    "kernelspec": {
      "display_name": "Python 3",
      "language": "python",
      "name": "python3"
    },
    "language_info": {
      "codemirror_mode": {
        "name": "ipython",
        "version": 3
      },
      "file_extension": ".py",
      "mimetype": "text/x-python",
      "name": "python",
      "nbconvert_exporter": "python",
      "pygments_lexer": "ipython3",
      "version": "3.7.1"
    }
  },
  "cells": [
    {
      "cell_type": "markdown",
      "metadata": {
        "id": "view-in-github",
        "colab_type": "text"
      },
      "source": [
        "<a href=\"https://colab.research.google.com/github/sabudev/CAIF/blob/main/Module_II_Exploratory_Data_Analysis_TMDB.ipynb\" target=\"_parent\"><img src=\"https://colab.research.google.com/assets/colab-badge.svg\" alt=\"Open In Colab\"/></a>"
      ]
    },
    {
      "cell_type": "markdown",
      "metadata": {
        "id": "CsEL5sDk0sqj"
      },
      "source": [
        "**In this Python notebook we look at a tmdb dataset that contains diverse attributes of selected movies. The notebook focuses on doing simple descriptive analysis of the data, including summarization and visualization.**"
      ]
    },
    {
      "cell_type": "code",
      "metadata": {
        "id": "Vk33gmkJvtPq"
      },
      "source": [
        "import pandas as pd\n",
        "import numpy as np\n",
        "import matplotlib.pyplot as plt"
      ],
      "execution_count": null,
      "outputs": []
    },
    {
      "cell_type": "markdown",
      "metadata": {
        "id": "T3rpqyyT7Y46"
      },
      "source": [
        "**Load the git to access the data file**"
      ]
    },
    {
      "cell_type": "code",
      "metadata": {
        "colab": {
          "base_uri": "https://localhost:8080/"
        },
        "id": "tDPuqkVr7YEH",
        "outputId": "fa6cb8c6-3e4c-4fc0-d9b7-d5a4cd631d62"
      },
      "source": [
        "! git clone https://github.com/sabudev/CAIF.git"
      ],
      "execution_count": null,
      "outputs": [
        {
          "output_type": "stream",
          "text": [
            "Cloning into 'CAIF'...\n",
            "remote: Enumerating objects: 14, done.\u001b[K\n",
            "remote: Counting objects: 100% (14/14), done.\u001b[K\n",
            "remote: Compressing objects: 100% (14/14), done.\u001b[K\n",
            "remote: Total 14 (delta 0), reused 0 (delta 0), pack-reused 0\u001b[K\n",
            "Unpacking objects: 100% (14/14), done.\n"
          ],
          "name": "stdout"
        }
      ]
    },
    {
      "cell_type": "markdown",
      "metadata": {
        "id": "Rf5tkrlL1Q2O"
      },
      "source": [
        "**`Read in the data file. The head() function shows the first few rows of data.`**"
      ]
    },
    {
      "cell_type": "code",
      "metadata": {
        "colab": {
          "base_uri": "https://localhost:8080/",
          "height": 445
        },
        "id": "40rVUJPGvtPs",
        "outputId": "c24f0840-94be-463f-ad18-d460907cb57d"
      },
      "source": [
        "dt = pd.read_csv('CAIF/tmdb_attributes.csv')\n",
        "dt.head()"
      ],
      "execution_count": null,
      "outputs": [
        {
          "output_type": "execute_result",
          "data": {
            "text/html": [
              "<div>\n",
              "<style scoped>\n",
              "    .dataframe tbody tr th:only-of-type {\n",
              "        vertical-align: middle;\n",
              "    }\n",
              "\n",
              "    .dataframe tbody tr th {\n",
              "        vertical-align: top;\n",
              "    }\n",
              "\n",
              "    .dataframe thead th {\n",
              "        text-align: right;\n",
              "    }\n",
              "</style>\n",
              "<table border=\"1\" class=\"dataframe\">\n",
              "  <thead>\n",
              "    <tr style=\"text-align: right;\">\n",
              "      <th></th>\n",
              "      <th>budget</th>\n",
              "      <th>id</th>\n",
              "      <th>original_language</th>\n",
              "      <th>original_title</th>\n",
              "      <th>popularity</th>\n",
              "      <th>release_date</th>\n",
              "      <th>revenue</th>\n",
              "      <th>runtime</th>\n",
              "      <th>tagline</th>\n",
              "      <th>title</th>\n",
              "      <th>vote_average</th>\n",
              "      <th>vote_count</th>\n",
              "    </tr>\n",
              "  </thead>\n",
              "  <tbody>\n",
              "    <tr>\n",
              "      <th>0</th>\n",
              "      <td>237000000</td>\n",
              "      <td>19995</td>\n",
              "      <td>en</td>\n",
              "      <td>Avatar</td>\n",
              "      <td>150.437577</td>\n",
              "      <td>12/10/09</td>\n",
              "      <td>2787965087</td>\n",
              "      <td>162.0</td>\n",
              "      <td>Enter the World of Pandora.</td>\n",
              "      <td>Avatar</td>\n",
              "      <td>7.2</td>\n",
              "      <td>11800</td>\n",
              "    </tr>\n",
              "    <tr>\n",
              "      <th>1</th>\n",
              "      <td>300000000</td>\n",
              "      <td>285</td>\n",
              "      <td>en</td>\n",
              "      <td>Pirates of the Caribbean: At World's End</td>\n",
              "      <td>139.082615</td>\n",
              "      <td>5/19/07</td>\n",
              "      <td>961000000</td>\n",
              "      <td>169.0</td>\n",
              "      <td>At the end of the world, the adventure begins.</td>\n",
              "      <td>Pirates of the Caribbean: At World's End</td>\n",
              "      <td>6.9</td>\n",
              "      <td>4500</td>\n",
              "    </tr>\n",
              "    <tr>\n",
              "      <th>2</th>\n",
              "      <td>245000000</td>\n",
              "      <td>206647</td>\n",
              "      <td>en</td>\n",
              "      <td>Spectre</td>\n",
              "      <td>107.376788</td>\n",
              "      <td>10/26/15</td>\n",
              "      <td>880674609</td>\n",
              "      <td>148.0</td>\n",
              "      <td>A Plan No One Escapes</td>\n",
              "      <td>Spectre</td>\n",
              "      <td>6.3</td>\n",
              "      <td>4466</td>\n",
              "    </tr>\n",
              "    <tr>\n",
              "      <th>3</th>\n",
              "      <td>250000000</td>\n",
              "      <td>49026</td>\n",
              "      <td>en</td>\n",
              "      <td>The Dark Knight Rises</td>\n",
              "      <td>112.312950</td>\n",
              "      <td>7/16/12</td>\n",
              "      <td>1084939099</td>\n",
              "      <td>165.0</td>\n",
              "      <td>The Legend Ends</td>\n",
              "      <td>The Dark Knight Rises</td>\n",
              "      <td>7.6</td>\n",
              "      <td>9106</td>\n",
              "    </tr>\n",
              "    <tr>\n",
              "      <th>4</th>\n",
              "      <td>260000000</td>\n",
              "      <td>49529</td>\n",
              "      <td>en</td>\n",
              "      <td>John Carter</td>\n",
              "      <td>43.926995</td>\n",
              "      <td>3/7/12</td>\n",
              "      <td>284139100</td>\n",
              "      <td>132.0</td>\n",
              "      <td>Lost in our world, found in another.</td>\n",
              "      <td>John Carter</td>\n",
              "      <td>6.1</td>\n",
              "      <td>2124</td>\n",
              "    </tr>\n",
              "  </tbody>\n",
              "</table>\n",
              "</div>"
            ],
            "text/plain": [
              "      budget      id  ... vote_average vote_count\n",
              "0  237000000   19995  ...          7.2      11800\n",
              "1  300000000     285  ...          6.9       4500\n",
              "2  245000000  206647  ...          6.3       4466\n",
              "3  250000000   49026  ...          7.6       9106\n",
              "4  260000000   49529  ...          6.1       2124\n",
              "\n",
              "[5 rows x 12 columns]"
            ]
          },
          "metadata": {
            "tags": []
          },
          "execution_count": 3
        }
      ]
    },
    {
      "cell_type": "code",
      "metadata": {
        "colab": {
          "base_uri": "https://localhost:8080/",
          "height": 813
        },
        "id": "lhTdmz147zn4",
        "outputId": "cc369fc6-91c7-42d7-93fd-8817e927633a"
      },
      "source": [
        "dt.sort_values('revenue', ascending=False)"
      ],
      "execution_count": null,
      "outputs": [
        {
          "output_type": "execute_result",
          "data": {
            "text/html": [
              "<div>\n",
              "<style scoped>\n",
              "    .dataframe tbody tr th:only-of-type {\n",
              "        vertical-align: middle;\n",
              "    }\n",
              "\n",
              "    .dataframe tbody tr th {\n",
              "        vertical-align: top;\n",
              "    }\n",
              "\n",
              "    .dataframe thead th {\n",
              "        text-align: right;\n",
              "    }\n",
              "</style>\n",
              "<table border=\"1\" class=\"dataframe\">\n",
              "  <thead>\n",
              "    <tr style=\"text-align: right;\">\n",
              "      <th></th>\n",
              "      <th>budget</th>\n",
              "      <th>id</th>\n",
              "      <th>original_language</th>\n",
              "      <th>original_title</th>\n",
              "      <th>popularity</th>\n",
              "      <th>release_date</th>\n",
              "      <th>revenue</th>\n",
              "      <th>runtime</th>\n",
              "      <th>tagline</th>\n",
              "      <th>title</th>\n",
              "      <th>vote_average</th>\n",
              "      <th>vote_count</th>\n",
              "    </tr>\n",
              "  </thead>\n",
              "  <tbody>\n",
              "    <tr>\n",
              "      <th>0</th>\n",
              "      <td>237000000</td>\n",
              "      <td>19995</td>\n",
              "      <td>en</td>\n",
              "      <td>Avatar</td>\n",
              "      <td>150.437577</td>\n",
              "      <td>12/10/09</td>\n",
              "      <td>2787965087</td>\n",
              "      <td>162.0</td>\n",
              "      <td>Enter the World of Pandora.</td>\n",
              "      <td>Avatar</td>\n",
              "      <td>7.2</td>\n",
              "      <td>11800</td>\n",
              "    </tr>\n",
              "    <tr>\n",
              "      <th>25</th>\n",
              "      <td>200000000</td>\n",
              "      <td>597</td>\n",
              "      <td>en</td>\n",
              "      <td>Titanic</td>\n",
              "      <td>100.025899</td>\n",
              "      <td>11/18/97</td>\n",
              "      <td>1845034188</td>\n",
              "      <td>194.0</td>\n",
              "      <td>Nothing on Earth could come between them.</td>\n",
              "      <td>Titanic</td>\n",
              "      <td>7.5</td>\n",
              "      <td>7562</td>\n",
              "    </tr>\n",
              "    <tr>\n",
              "      <th>16</th>\n",
              "      <td>220000000</td>\n",
              "      <td>24428</td>\n",
              "      <td>en</td>\n",
              "      <td>The Avengers</td>\n",
              "      <td>144.448633</td>\n",
              "      <td>4/25/12</td>\n",
              "      <td>1519557910</td>\n",
              "      <td>143.0</td>\n",
              "      <td>Some assembly required.</td>\n",
              "      <td>The Avengers</td>\n",
              "      <td>7.4</td>\n",
              "      <td>11776</td>\n",
              "    </tr>\n",
              "    <tr>\n",
              "      <th>28</th>\n",
              "      <td>150000000</td>\n",
              "      <td>135397</td>\n",
              "      <td>en</td>\n",
              "      <td>Jurassic World</td>\n",
              "      <td>418.708552</td>\n",
              "      <td>6/9/15</td>\n",
              "      <td>1513528810</td>\n",
              "      <td>124.0</td>\n",
              "      <td>The park is open.</td>\n",
              "      <td>Jurassic World</td>\n",
              "      <td>6.5</td>\n",
              "      <td>8662</td>\n",
              "    </tr>\n",
              "    <tr>\n",
              "      <th>44</th>\n",
              "      <td>190000000</td>\n",
              "      <td>168259</td>\n",
              "      <td>en</td>\n",
              "      <td>Furious 7</td>\n",
              "      <td>102.322217</td>\n",
              "      <td>4/1/15</td>\n",
              "      <td>1506249360</td>\n",
              "      <td>137.0</td>\n",
              "      <td>Vengeance Hits Home</td>\n",
              "      <td>Furious 7</td>\n",
              "      <td>7.3</td>\n",
              "      <td>4176</td>\n",
              "    </tr>\n",
              "    <tr>\n",
              "      <th>...</th>\n",
              "      <td>...</td>\n",
              "      <td>...</td>\n",
              "      <td>...</td>\n",
              "      <td>...</td>\n",
              "      <td>...</td>\n",
              "      <td>...</td>\n",
              "      <td>...</td>\n",
              "      <td>...</td>\n",
              "      <td>...</td>\n",
              "      <td>...</td>\n",
              "      <td>...</td>\n",
              "      <td>...</td>\n",
              "    </tr>\n",
              "    <tr>\n",
              "      <th>3200</th>\n",
              "      <td>0</td>\n",
              "      <td>41248</td>\n",
              "      <td>fr</td>\n",
              "      <td>La Fille du RER</td>\n",
              "      <td>2.351706</td>\n",
              "      <td>3/18/09</td>\n",
              "      <td>0</td>\n",
              "      <td>105.0</td>\n",
              "      <td>NaN</td>\n",
              "      <td>The Girl on the Train</td>\n",
              "      <td>5.6</td>\n",
              "      <td>10</td>\n",
              "    </tr>\n",
              "    <tr>\n",
              "      <th>3199</th>\n",
              "      <td>0</td>\n",
              "      <td>291081</td>\n",
              "      <td>en</td>\n",
              "      <td>Red Riding: In the Year of Our Lord 1974</td>\n",
              "      <td>7.247023</td>\n",
              "      <td>2/28/09</td>\n",
              "      <td>0</td>\n",
              "      <td>102.0</td>\n",
              "      <td>An epic tale of murder, corruption and obsession.</td>\n",
              "      <td>Red Riding: In the Year of Our Lord 1974</td>\n",
              "      <td>7.0</td>\n",
              "      <td>54</td>\n",
              "    </tr>\n",
              "    <tr>\n",
              "      <th>3197</th>\n",
              "      <td>6500000</td>\n",
              "      <td>8883</td>\n",
              "      <td>da</td>\n",
              "      <td>Flammen &amp; Citronen</td>\n",
              "      <td>7.028946</td>\n",
              "      <td>3/25/08</td>\n",
              "      <td>0</td>\n",
              "      <td>130.0</td>\n",
              "      <td>NaN</td>\n",
              "      <td>Flame &amp; Citron</td>\n",
              "      <td>6.8</td>\n",
              "      <td>68</td>\n",
              "    </tr>\n",
              "    <tr>\n",
              "      <th>3194</th>\n",
              "      <td>9000000</td>\n",
              "      <td>12454</td>\n",
              "      <td>en</td>\n",
              "      <td>All or Nothing</td>\n",
              "      <td>2.872281</td>\n",
              "      <td>5/17/02</td>\n",
              "      <td>0</td>\n",
              "      <td>128.0</td>\n",
              "      <td>NaN</td>\n",
              "      <td>All or Nothing</td>\n",
              "      <td>7.0</td>\n",
              "      <td>33</td>\n",
              "    </tr>\n",
              "    <tr>\n",
              "      <th>4802</th>\n",
              "      <td>0</td>\n",
              "      <td>25975</td>\n",
              "      <td>en</td>\n",
              "      <td>My Date with Drew</td>\n",
              "      <td>1.929883</td>\n",
              "      <td>8/5/05</td>\n",
              "      <td>0</td>\n",
              "      <td>90.0</td>\n",
              "      <td>NaN</td>\n",
              "      <td>My Date with Drew</td>\n",
              "      <td>6.3</td>\n",
              "      <td>16</td>\n",
              "    </tr>\n",
              "  </tbody>\n",
              "</table>\n",
              "<p>4803 rows × 12 columns</p>\n",
              "</div>"
            ],
            "text/plain": [
              "         budget      id  ... vote_average vote_count\n",
              "0     237000000   19995  ...          7.2      11800\n",
              "25    200000000     597  ...          7.5       7562\n",
              "16    220000000   24428  ...          7.4      11776\n",
              "28    150000000  135397  ...          6.5       8662\n",
              "44    190000000  168259  ...          7.3       4176\n",
              "...         ...     ...  ...          ...        ...\n",
              "3200          0   41248  ...          5.6         10\n",
              "3199          0  291081  ...          7.0         54\n",
              "3197    6500000    8883  ...          6.8         68\n",
              "3194    9000000   12454  ...          7.0         33\n",
              "4802          0   25975  ...          6.3         16\n",
              "\n",
              "[4803 rows x 12 columns]"
            ]
          },
          "metadata": {
            "tags": []
          },
          "execution_count": 4
        }
      ]
    },
    {
      "cell_type": "markdown",
      "metadata": {
        "id": "_-H8VwgA7zUb"
      },
      "source": [
        ""
      ]
    },
    {
      "cell_type": "markdown",
      "metadata": {
        "id": "sbCPhQwn2KCN"
      },
      "source": [
        "**Identify the different data types**"
      ]
    },
    {
      "cell_type": "code",
      "metadata": {
        "id": "IR2n3D9d2WJn",
        "colab": {
          "base_uri": "https://localhost:8080/"
        },
        "outputId": "5107249c-c152-4dda-8c73-24f2eebb0064"
      },
      "source": [
        "dt.info()"
      ],
      "execution_count": null,
      "outputs": [
        {
          "output_type": "stream",
          "text": [
            "<class 'pandas.core.frame.DataFrame'>\n",
            "RangeIndex: 4803 entries, 0 to 4802\n",
            "Data columns (total 12 columns):\n",
            " #   Column             Non-Null Count  Dtype  \n",
            "---  ------             --------------  -----  \n",
            " 0   budget             4803 non-null   int64  \n",
            " 1   id                 4803 non-null   int64  \n",
            " 2   original_language  4803 non-null   object \n",
            " 3   original_title     4803 non-null   object \n",
            " 4   popularity         4803 non-null   float64\n",
            " 5   release_date       4802 non-null   object \n",
            " 6   revenue            4803 non-null   int64  \n",
            " 7   runtime            4801 non-null   float64\n",
            " 8   tagline            3959 non-null   object \n",
            " 9   title              4803 non-null   object \n",
            " 10  vote_average       4803 non-null   float64\n",
            " 11  vote_count         4803 non-null   int64  \n",
            "dtypes: float64(3), int64(4), object(5)\n",
            "memory usage: 450.4+ KB\n"
          ],
          "name": "stdout"
        }
      ]
    },
    {
      "cell_type": "markdown",
      "metadata": {
        "id": "21pZqdJh61po"
      },
      "source": [
        "### Q1. Which variables are categorical?"
      ]
    },
    {
      "cell_type": "code",
      "metadata": {
        "id": "aNyjaCen61pp"
      },
      "source": [
        ""
      ],
      "execution_count": null,
      "outputs": []
    },
    {
      "cell_type": "markdown",
      "metadata": {
        "id": "gzZZmseV61pp"
      },
      "source": [
        "### Q2. Which variables are numerical?"
      ]
    },
    {
      "cell_type": "code",
      "metadata": {
        "id": "2Wo_xyDF61pq"
      },
      "source": [
        ""
      ],
      "execution_count": null,
      "outputs": []
    },
    {
      "cell_type": "markdown",
      "metadata": {
        "id": "8-QWg_le1p4i"
      },
      "source": [
        "**Create a summary of the data. This function only shows a summary of the numeric variables**"
      ]
    },
    {
      "cell_type": "code",
      "metadata": {
        "id": "75eC9ka21uHN",
        "colab": {
          "base_uri": "https://localhost:8080/",
          "height": 297
        },
        "outputId": "e1d1eb16-56b8-400f-8fdb-f570ce416642"
      },
      "source": [
        "dt.describe()"
      ],
      "execution_count": null,
      "outputs": [
        {
          "output_type": "execute_result",
          "data": {
            "text/html": [
              "<div>\n",
              "<style scoped>\n",
              "    .dataframe tbody tr th:only-of-type {\n",
              "        vertical-align: middle;\n",
              "    }\n",
              "\n",
              "    .dataframe tbody tr th {\n",
              "        vertical-align: top;\n",
              "    }\n",
              "\n",
              "    .dataframe thead th {\n",
              "        text-align: right;\n",
              "    }\n",
              "</style>\n",
              "<table border=\"1\" class=\"dataframe\">\n",
              "  <thead>\n",
              "    <tr style=\"text-align: right;\">\n",
              "      <th></th>\n",
              "      <th>budget</th>\n",
              "      <th>id</th>\n",
              "      <th>popularity</th>\n",
              "      <th>revenue</th>\n",
              "      <th>runtime</th>\n",
              "      <th>vote_average</th>\n",
              "      <th>vote_count</th>\n",
              "    </tr>\n",
              "  </thead>\n",
              "  <tbody>\n",
              "    <tr>\n",
              "      <th>count</th>\n",
              "      <td>4.803000e+03</td>\n",
              "      <td>4803.000000</td>\n",
              "      <td>4803.000000</td>\n",
              "      <td>4.803000e+03</td>\n",
              "      <td>4801.000000</td>\n",
              "      <td>4803.000000</td>\n",
              "      <td>4803.000000</td>\n",
              "    </tr>\n",
              "    <tr>\n",
              "      <th>mean</th>\n",
              "      <td>2.904504e+07</td>\n",
              "      <td>57165.484281</td>\n",
              "      <td>21.492301</td>\n",
              "      <td>8.226064e+07</td>\n",
              "      <td>106.875859</td>\n",
              "      <td>6.092172</td>\n",
              "      <td>690.217989</td>\n",
              "    </tr>\n",
              "    <tr>\n",
              "      <th>std</th>\n",
              "      <td>4.072239e+07</td>\n",
              "      <td>88694.614033</td>\n",
              "      <td>31.816650</td>\n",
              "      <td>1.628571e+08</td>\n",
              "      <td>22.611935</td>\n",
              "      <td>1.194612</td>\n",
              "      <td>1234.585891</td>\n",
              "    </tr>\n",
              "    <tr>\n",
              "      <th>min</th>\n",
              "      <td>0.000000e+00</td>\n",
              "      <td>5.000000</td>\n",
              "      <td>0.000000</td>\n",
              "      <td>0.000000e+00</td>\n",
              "      <td>0.000000</td>\n",
              "      <td>0.000000</td>\n",
              "      <td>0.000000</td>\n",
              "    </tr>\n",
              "    <tr>\n",
              "      <th>25%</th>\n",
              "      <td>7.900000e+05</td>\n",
              "      <td>9014.500000</td>\n",
              "      <td>4.668070</td>\n",
              "      <td>0.000000e+00</td>\n",
              "      <td>94.000000</td>\n",
              "      <td>5.600000</td>\n",
              "      <td>54.000000</td>\n",
              "    </tr>\n",
              "    <tr>\n",
              "      <th>50%</th>\n",
              "      <td>1.500000e+07</td>\n",
              "      <td>14629.000000</td>\n",
              "      <td>12.921594</td>\n",
              "      <td>1.917000e+07</td>\n",
              "      <td>103.000000</td>\n",
              "      <td>6.200000</td>\n",
              "      <td>235.000000</td>\n",
              "    </tr>\n",
              "    <tr>\n",
              "      <th>75%</th>\n",
              "      <td>4.000000e+07</td>\n",
              "      <td>58610.500000</td>\n",
              "      <td>28.313505</td>\n",
              "      <td>9.291719e+07</td>\n",
              "      <td>118.000000</td>\n",
              "      <td>6.800000</td>\n",
              "      <td>737.000000</td>\n",
              "    </tr>\n",
              "    <tr>\n",
              "      <th>max</th>\n",
              "      <td>3.800000e+08</td>\n",
              "      <td>459488.000000</td>\n",
              "      <td>875.581305</td>\n",
              "      <td>2.787965e+09</td>\n",
              "      <td>338.000000</td>\n",
              "      <td>10.000000</td>\n",
              "      <td>13752.000000</td>\n",
              "    </tr>\n",
              "  </tbody>\n",
              "</table>\n",
              "</div>"
            ],
            "text/plain": [
              "             budget             id  ...  vote_average    vote_count\n",
              "count  4.803000e+03    4803.000000  ...   4803.000000   4803.000000\n",
              "mean   2.904504e+07   57165.484281  ...      6.092172    690.217989\n",
              "std    4.072239e+07   88694.614033  ...      1.194612   1234.585891\n",
              "min    0.000000e+00       5.000000  ...      0.000000      0.000000\n",
              "25%    7.900000e+05    9014.500000  ...      5.600000     54.000000\n",
              "50%    1.500000e+07   14629.000000  ...      6.200000    235.000000\n",
              "75%    4.000000e+07   58610.500000  ...      6.800000    737.000000\n",
              "max    3.800000e+08  459488.000000  ...     10.000000  13752.000000\n",
              "\n",
              "[8 rows x 7 columns]"
            ]
          },
          "metadata": {
            "tags": []
          },
          "execution_count": 6
        }
      ]
    },
    {
      "cell_type": "markdown",
      "metadata": {
        "id": "Y7yIsefq3R0U"
      },
      "source": [
        "**Plot the histogram of runtime. Here we are treating runtime as a continious variable.**"
      ]
    },
    {
      "cell_type": "code",
      "metadata": {
        "id": "XEruWpnAvtPt",
        "colab": {
          "base_uri": "https://localhost:8080/",
          "height": 282
        },
        "outputId": "f7a64837-74da-4307-ecaa-773c0ae489df"
      },
      "source": [
        "dt['runtime'].plot.hist()"
      ],
      "execution_count": null,
      "outputs": [
        {
          "output_type": "execute_result",
          "data": {
            "text/plain": [
              "<matplotlib.axes._subplots.AxesSubplot at 0x7f43e3326a50>"
            ]
          },
          "metadata": {
            "tags": []
          },
          "execution_count": 7
        },
        {
          "output_type": "display_data",
          "data": {
            "image/png": "[encoded data removed]",
            "text/plain": [
              "<Figure size 432x288 with 1 Axes>"
            ]
          },
          "metadata": {
            "tags": [],
            "needs_background": "light"
          }
        }
      ]
    },
    {
      "cell_type": "markdown",
      "metadata": {
        "id": "lQZ_2Lbu3mpz"
      },
      "source": [
        "**Fancy histogram with header and axis labels. A similar logic can be used to construct any type of bar chart. In this case, we are treating points as a discrete (nominal) variable.**"
      ]
    },
    {
      "cell_type": "code",
      "metadata": {
        "id": "IexjNKUOvtPu",
        "colab": {
          "base_uri": "https://localhost:8080/",
          "height": 312
        },
        "outputId": "aca1bf97-cbd2-47b0-d84c-d4e0814528ac"
      },
      "source": [
        "# create a figure and axis \n",
        "fig, ax = plt.subplots() \n",
        "\n",
        "# count the occurrence of each class \n",
        "data = dt['runtime'].value_counts() \n",
        "\n",
        "# get x and y data \n",
        "runtime = data.index \n",
        "frequency = data.values \n",
        "\n",
        "# create bar chart \n",
        "ax.bar(runtime, frequency) \n",
        "\n",
        "# set title and labels \n",
        "ax.set_title('Movie Runtimes') \n",
        "ax.set_xlabel('Runtime') \n",
        "ax.set_ylabel('Frequency')"
      ],
      "execution_count": null,
      "outputs": [
        {
          "output_type": "execute_result",
          "data": {
            "text/plain": [
              "Text(0, 0.5, 'Frequency')"
            ]
          },
          "metadata": {
            "tags": []
          },
          "execution_count": 8
        },
        {
          "output_type": "display_data",
          "data": {
            "image/png": "[encoded data removed]",
            "text/plain": [
              "<Figure size 432x288 with 1 Axes>"
            ]
          },
          "metadata": {
            "tags": [],
            "needs_background": "light"
          }
        }
      ]
    },
    {
      "cell_type": "markdown",
      "metadata": {
        "id": "WLO6DMlt61ps"
      },
      "source": [
        "### Q3. Plot the histogram of 'budget' and 'revenue'"
      ]
    },
    {
      "cell_type": "code",
      "metadata": {
        "id": "GfDGNjPy61ps"
      },
      "source": [
        ""
      ],
      "execution_count": null,
      "outputs": []
    },
    {
      "cell_type": "code",
      "metadata": {
        "id": "mKoy08oz61ps"
      },
      "source": [
        ""
      ],
      "execution_count": null,
      "outputs": []
    },
    {
      "cell_type": "markdown",
      "metadata": {
        "id": "4e_QAp1O61pt"
      },
      "source": [
        "### Q4. Do you think the data should transformed for better visualization? If so, transform and re-plot the data."
      ]
    },
    {
      "cell_type": "code",
      "metadata": {
        "id": "NfEClVkO61pt"
      },
      "source": [
        ""
      ],
      "execution_count": null,
      "outputs": []
    },
    {
      "cell_type": "markdown",
      "metadata": {
        "id": "hYpG-BY661pt"
      },
      "source": [
        "#### Other ways of visualizing"
      ]
    },
    {
      "cell_type": "code",
      "metadata": {
        "id": "n9JSRkftvtPu",
        "colab": {
          "base_uri": "https://localhost:8080/"
        },
        "outputId": "26c42fce-f549-4557-fed0-b4fd70727eee"
      },
      "source": [
        "#Similar as before, but instead of creating the x and y data, just get the value counts for each point and sort them before plotting.\n",
        "freq_runtime = dt['runtime'].value_counts()\n",
        "\n",
        "#show that the freq chart looks like\n",
        "freq_runtime"
      ],
      "execution_count": null,
      "outputs": [
        {
          "output_type": "execute_result",
          "data": {
            "text/plain": [
              "90.0     163\n",
              "100.0    149\n",
              "98.0     140\n",
              "97.0     133\n",
              "95.0     123\n",
              "        ... \n",
              "338.0      1\n",
              "53.0       1\n",
              "214.0      1\n",
              "194.0      1\n",
              "179.0      1\n",
              "Name: runtime, Length: 156, dtype: int64"
            ]
          },
          "metadata": {
            "tags": []
          },
          "execution_count": 9
        }
      ]
    },
    {
      "cell_type": "code",
      "metadata": {
        "id": "uxBVvbfs6SKh",
        "colab": {
          "base_uri": "https://localhost:8080/",
          "height": 301
        },
        "outputId": "3b7c7625-9af5-417d-ce9c-4c2c7be75680"
      },
      "source": [
        "#Plot the frequency chart\n",
        "freq_runtime.plot.bar()"
      ],
      "execution_count": null,
      "outputs": [
        {
          "output_type": "execute_result",
          "data": {
            "text/plain": [
              "<matplotlib.axes._subplots.AxesSubplot at 0x7f43e2bcb990>"
            ]
          },
          "metadata": {
            "tags": []
          },
          "execution_count": 10
        },
        {
          "output_type": "display_data",
          "data": {
            "image/png": "[encoded data removed]",
            "text/plain": [
              "<Figure size 432x288 with 1 Axes>"
            ]
          },
          "metadata": {
            "tags": [],
            "needs_background": "light"
          }
        }
      ]
    },
    {
      "cell_type": "code",
      "metadata": {
        "id": "zCI5VDDP6GbF",
        "colab": {
          "base_uri": "https://localhost:8080/",
          "height": 301
        },
        "outputId": "bff971d0-0265-4eec-dcfd-b1714ed612b8"
      },
      "source": [
        "#sort the points to plot before plotting\n",
        "freq_runtime.sort_index().plot.bar()"
      ],
      "execution_count": null,
      "outputs": [
        {
          "output_type": "execute_result",
          "data": {
            "text/plain": [
              "<matplotlib.axes._subplots.AxesSubplot at 0x7f43e277e350>"
            ]
          },
          "metadata": {
            "tags": []
          },
          "execution_count": 11
        },
        {
          "output_type": "display_data",
          "data": {
            "image/png": "[encoded data removed]",
            "text/plain": [
              "<Figure size 432x288 with 1 Axes>"
            ]
          },
          "metadata": {
            "tags": [],
            "needs_background": "light"
          }
        }
      ]
    },
    {
      "cell_type": "markdown",
      "metadata": {
        "id": "RWCKz5s16-7J"
      },
      "source": [
        "**Bin the runtime into long (>200), fair (90-200) and short (<90) categories**"
      ]
    },
    {
      "cell_type": "code",
      "metadata": {
        "colab": {
          "base_uri": "https://localhost:8080/"
        },
        "id": "PbZUu28E6Q5V",
        "outputId": "0b6fa7b4-6840-4a08-fee9-01d4122e3e21"
      },
      "source": [
        "category = pd.cut(dt.runtime, bins = [0, 90, 120, 500],labels=['Short','Fair','Long'])\n",
        "category.value_counts()"
      ],
      "execution_count": null,
      "outputs": [
        {
          "output_type": "execute_result",
          "data": {
            "text/plain": [
              "Fair     2945\n",
              "Long      988\n",
              "Short     833\n",
              "Name: runtime, dtype: int64"
            ]
          },
          "metadata": {
            "tags": []
          },
          "execution_count": 12
        }
      ]
    },
    {
      "cell_type": "code",
      "metadata": {
        "colab": {
          "base_uri": "https://localhost:8080/",
          "height": 445
        },
        "id": "i_a8yYSmADxG",
        "outputId": "18c76c6e-ac35-4961-a12a-736ecb6439bb"
      },
      "source": [
        "#Add the categories to the dataframe \n",
        "dt.insert(4, \"runtime_category\", category)\n",
        "dt.head()"
      ],
      "execution_count": null,
      "outputs": [
        {
          "output_type": "execute_result",
          "data": {
            "text/html": [
              "<div>\n",
              "<style scoped>\n",
              "    .dataframe tbody tr th:only-of-type {\n",
              "        vertical-align: middle;\n",
              "    }\n",
              "\n",
              "    .dataframe tbody tr th {\n",
              "        vertical-align: top;\n",
              "    }\n",
              "\n",
              "    .dataframe thead th {\n",
              "        text-align: right;\n",
              "    }\n",
              "</style>\n",
              "<table border=\"1\" class=\"dataframe\">\n",
              "  <thead>\n",
              "    <tr style=\"text-align: right;\">\n",
              "      <th></th>\n",
              "      <th>budget</th>\n",
              "      <th>id</th>\n",
              "      <th>original_language</th>\n",
              "      <th>original_title</th>\n",
              "      <th>runtime_category</th>\n",
              "      <th>popularity</th>\n",
              "      <th>release_date</th>\n",
              "      <th>revenue</th>\n",
              "      <th>runtime</th>\n",
              "      <th>tagline</th>\n",
              "      <th>title</th>\n",
              "      <th>vote_average</th>\n",
              "      <th>vote_count</th>\n",
              "    </tr>\n",
              "  </thead>\n",
              "  <tbody>\n",
              "    <tr>\n",
              "      <th>0</th>\n",
              "      <td>237000000</td>\n",
              "      <td>19995</td>\n",
              "      <td>en</td>\n",
              "      <td>Avatar</td>\n",
              "      <td>Long</td>\n",
              "      <td>150.437577</td>\n",
              "      <td>12/10/09</td>\n",
              "      <td>2787965087</td>\n",
              "      <td>162.0</td>\n",
              "      <td>Enter the World of Pandora.</td>\n",
              "      <td>Avatar</td>\n",
              "      <td>7.2</td>\n",
              "      <td>11800</td>\n",
              "    </tr>\n",
              "    <tr>\n",
              "      <th>1</th>\n",
              "      <td>300000000</td>\n",
              "      <td>285</td>\n",
              "      <td>en</td>\n",
              "      <td>Pirates of the Caribbean: At World's End</td>\n",
              "      <td>Long</td>\n",
              "      <td>139.082615</td>\n",
              "      <td>5/19/07</td>\n",
              "      <td>961000000</td>\n",
              "      <td>169.0</td>\n",
              "      <td>At the end of the world, the adventure begins.</td>\n",
              "      <td>Pirates of the Caribbean: At World's End</td>\n",
              "      <td>6.9</td>\n",
              "      <td>4500</td>\n",
              "    </tr>\n",
              "    <tr>\n",
              "      <th>2</th>\n",
              "      <td>245000000</td>\n",
              "      <td>206647</td>\n",
              "      <td>en</td>\n",
              "      <td>Spectre</td>\n",
              "      <td>Long</td>\n",
              "      <td>107.376788</td>\n",
              "      <td>10/26/15</td>\n",
              "      <td>880674609</td>\n",
              "      <td>148.0</td>\n",
              "      <td>A Plan No One Escapes</td>\n",
              "      <td>Spectre</td>\n",
              "      <td>6.3</td>\n",
              "      <td>4466</td>\n",
              "    </tr>\n",
              "    <tr>\n",
              "      <th>3</th>\n",
              "      <td>250000000</td>\n",
              "      <td>49026</td>\n",
              "      <td>en</td>\n",
              "      <td>The Dark Knight Rises</td>\n",
              "      <td>Long</td>\n",
              "      <td>112.312950</td>\n",
              "      <td>7/16/12</td>\n",
              "      <td>1084939099</td>\n",
              "      <td>165.0</td>\n",
              "      <td>The Legend Ends</td>\n",
              "      <td>The Dark Knight Rises</td>\n",
              "      <td>7.6</td>\n",
              "      <td>9106</td>\n",
              "    </tr>\n",
              "    <tr>\n",
              "      <th>4</th>\n",
              "      <td>260000000</td>\n",
              "      <td>49529</td>\n",
              "      <td>en</td>\n",
              "      <td>John Carter</td>\n",
              "      <td>Long</td>\n",
              "      <td>43.926995</td>\n",
              "      <td>3/7/12</td>\n",
              "      <td>284139100</td>\n",
              "      <td>132.0</td>\n",
              "      <td>Lost in our world, found in another.</td>\n",
              "      <td>John Carter</td>\n",
              "      <td>6.1</td>\n",
              "      <td>2124</td>\n",
              "    </tr>\n",
              "  </tbody>\n",
              "</table>\n",
              "</div>"
            ],
            "text/plain": [
              "      budget      id  ... vote_average vote_count\n",
              "0  237000000   19995  ...          7.2      11800\n",
              "1  300000000     285  ...          6.9       4500\n",
              "2  245000000  206647  ...          6.3       4466\n",
              "3  250000000   49026  ...          7.6       9106\n",
              "4  260000000   49529  ...          6.1       2124\n",
              "\n",
              "[5 rows x 13 columns]"
            ]
          },
          "metadata": {
            "tags": []
          },
          "execution_count": 13
        }
      ]
    },
    {
      "cell_type": "code",
      "metadata": {
        "id": "7ZSFMSP-A1Fk",
        "colab": {
          "base_uri": "https://localhost:8080/",
          "height": 299
        },
        "outputId": "e4d4054a-fce4-4914-a62d-996a77d27099"
      },
      "source": [
        "#Plot the categorical variable\n",
        "freq_category = dt.runtime_category.value_counts()\n",
        "freq_category.plot.bar()"
      ],
      "execution_count": null,
      "outputs": [
        {
          "output_type": "execute_result",
          "data": {
            "text/plain": [
              "<matplotlib.axes._subplots.AxesSubplot at 0x7f43e2363b10>"
            ]
          },
          "metadata": {
            "tags": []
          },
          "execution_count": 14
        },
        {
          "output_type": "display_data",
          "data": {
            "image/png": "[encoded data removed]",
            "text/plain": [
              "<Figure size 432x288 with 1 Axes>"
            ]
          },
          "metadata": {
            "tags": [],
            "needs_background": "light"
          }
        }
      ]
    },
    {
      "cell_type": "markdown",
      "metadata": {
        "id": "CCDMKlDQ61pu"
      },
      "source": [
        "#### Find correlation between variables"
      ]
    },
    {
      "cell_type": "code",
      "metadata": {
        "id": "FhfimkVu61pu",
        "colab": {
          "base_uri": "https://localhost:8080/",
          "height": 266
        },
        "outputId": "cce757b5-e5ee-4670-cde8-5336918f3b3f"
      },
      "source": [
        "dt.corr()"
      ],
      "execution_count": null,
      "outputs": [
        {
          "output_type": "execute_result",
          "data": {
            "text/html": [
              "<div>\n",
              "<style scoped>\n",
              "    .dataframe tbody tr th:only-of-type {\n",
              "        vertical-align: middle;\n",
              "    }\n",
              "\n",
              "    .dataframe tbody tr th {\n",
              "        vertical-align: top;\n",
              "    }\n",
              "\n",
              "    .dataframe thead th {\n",
              "        text-align: right;\n",
              "    }\n",
              "</style>\n",
              "<table border=\"1\" class=\"dataframe\">\n",
              "  <thead>\n",
              "    <tr style=\"text-align: right;\">\n",
              "      <th></th>\n",
              "      <th>budget</th>\n",
              "      <th>id</th>\n",
              "      <th>popularity</th>\n",
              "      <th>revenue</th>\n",
              "      <th>runtime</th>\n",
              "      <th>vote_average</th>\n",
              "      <th>vote_count</th>\n",
              "    </tr>\n",
              "  </thead>\n",
              "  <tbody>\n",
              "    <tr>\n",
              "      <th>budget</th>\n",
              "      <td>1.000000</td>\n",
              "      <td>-0.089377</td>\n",
              "      <td>0.505414</td>\n",
              "      <td>0.730823</td>\n",
              "      <td>0.269851</td>\n",
              "      <td>0.093146</td>\n",
              "      <td>0.593180</td>\n",
              "    </tr>\n",
              "    <tr>\n",
              "      <th>id</th>\n",
              "      <td>-0.089377</td>\n",
              "      <td>1.000000</td>\n",
              "      <td>0.031202</td>\n",
              "      <td>-0.050425</td>\n",
              "      <td>-0.153536</td>\n",
              "      <td>-0.270595</td>\n",
              "      <td>-0.004128</td>\n",
              "    </tr>\n",
              "    <tr>\n",
              "      <th>popularity</th>\n",
              "      <td>0.505414</td>\n",
              "      <td>0.031202</td>\n",
              "      <td>1.000000</td>\n",
              "      <td>0.644724</td>\n",
              "      <td>0.225502</td>\n",
              "      <td>0.273952</td>\n",
              "      <td>0.778130</td>\n",
              "    </tr>\n",
              "    <tr>\n",
              "      <th>revenue</th>\n",
              "      <td>0.730823</td>\n",
              "      <td>-0.050425</td>\n",
              "      <td>0.644724</td>\n",
              "      <td>1.000000</td>\n",
              "      <td>0.251093</td>\n",
              "      <td>0.197150</td>\n",
              "      <td>0.781487</td>\n",
              "    </tr>\n",
              "    <tr>\n",
              "      <th>runtime</th>\n",
              "      <td>0.269851</td>\n",
              "      <td>-0.153536</td>\n",
              "      <td>0.225502</td>\n",
              "      <td>0.251093</td>\n",
              "      <td>1.000000</td>\n",
              "      <td>0.375046</td>\n",
              "      <td>0.271944</td>\n",
              "    </tr>\n",
              "    <tr>\n",
              "      <th>vote_average</th>\n",
              "      <td>0.093146</td>\n",
              "      <td>-0.270595</td>\n",
              "      <td>0.273952</td>\n",
              "      <td>0.197150</td>\n",
              "      <td>0.375046</td>\n",
              "      <td>1.000000</td>\n",
              "      <td>0.312997</td>\n",
              "    </tr>\n",
              "    <tr>\n",
              "      <th>vote_count</th>\n",
              "      <td>0.593180</td>\n",
              "      <td>-0.004128</td>\n",
              "      <td>0.778130</td>\n",
              "      <td>0.781487</td>\n",
              "      <td>0.271944</td>\n",
              "      <td>0.312997</td>\n",
              "      <td>1.000000</td>\n",
              "    </tr>\n",
              "  </tbody>\n",
              "</table>\n",
              "</div>"
            ],
            "text/plain": [
              "                budget        id  ...  vote_average  vote_count\n",
              "budget        1.000000 -0.089377  ...      0.093146    0.593180\n",
              "id           -0.089377  1.000000  ...     -0.270595   -0.004128\n",
              "popularity    0.505414  0.031202  ...      0.273952    0.778130\n",
              "revenue       0.730823 -0.050425  ...      0.197150    0.781487\n",
              "runtime       0.269851 -0.153536  ...      0.375046    0.271944\n",
              "vote_average  0.093146 -0.270595  ...      1.000000    0.312997\n",
              "vote_count    0.593180 -0.004128  ...      0.312997    1.000000\n",
              "\n",
              "[7 rows x 7 columns]"
            ]
          },
          "metadata": {
            "tags": []
          },
          "execution_count": 15
        }
      ]
    },
    {
      "cell_type": "markdown",
      "metadata": {
        "id": "A93Ji3ho61pu"
      },
      "source": [
        "### Q5. Interprest these correlations."
      ]
    },
    {
      "cell_type": "code",
      "metadata": {
        "id": "RA4BjDtk61pv"
      },
      "source": [
        ""
      ],
      "execution_count": null,
      "outputs": []
    },
    {
      "cell_type": "markdown",
      "metadata": {
        "id": "4eYYA1tL61pv"
      },
      "source": [
        "#### Visually show the relation between two variables - scatter plot"
      ]
    },
    {
      "cell_type": "code",
      "metadata": {
        "id": "D5vD346G61pv",
        "colab": {
          "base_uri": "https://localhost:8080/",
          "height": 306
        },
        "outputId": "95b35ac0-b187-4340-8f85-62d5808ae1a1"
      },
      "source": [
        "plt.scatter(dt['revenue'], dt['budget'])"
      ],
      "execution_count": null,
      "outputs": [
        {
          "output_type": "execute_result",
          "data": {
            "text/plain": [
              "<matplotlib.collections.PathCollection at 0x7f43e22e1310>"
            ]
          },
          "metadata": {
            "tags": []
          },
          "execution_count": 16
        },
        {
          "output_type": "display_data",
          "data": {
            "image/png": "[encoded data removed]",
            "text/plain": [
              "<Figure size 432x288 with 1 Axes>"
            ]
          },
          "metadata": {
            "tags": [],
            "needs_background": "light"
          }
        }
      ]
    },
    {
      "cell_type": "markdown",
      "metadata": {
        "id": "myhRkRvb61pv"
      },
      "source": [
        "### Q6. Visually show the relationship between 'popularity' and 'vote_average'"
      ]
    },
    {
      "cell_type": "code",
      "metadata": {
        "id": "PHvSP-Kj61pv"
      },
      "source": [
        ""
      ],
      "execution_count": null,
      "outputs": []
    }
  ]
}