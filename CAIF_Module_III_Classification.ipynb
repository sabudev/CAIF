{
  "nbformat": 4,
  "nbformat_minor": 0,
  "metadata": {
    "kernelspec": {
      "display_name": "Python 3",
      "language": "python",
      "name": "python3"
    },
    "language_info": {
      "codemirror_mode": {
        "name": "ipython",
        "version": 3
      },
      "file_extension": ".py",
      "mimetype": "text/x-python",
      "name": "python",
      "nbconvert_exporter": "python",
      "pygments_lexer": "ipython3",
      "version": "3.7.1"
    },
    "colab": {
      "name": "CAIF Module III - Classification.ipynb",
      "provenance": [],
      "collapsed_sections": [],
      "include_colab_link": true
    }
  },
  "cells": [
    {
      "cell_type": "markdown",
      "metadata": {
        "id": "view-in-github",
        "colab_type": "text"
      },
      "source": [
        "<a href=\"https://colab.research.google.com/github/sabudev/CAIF/blob/main/CAIF_Module_III_Classification.ipynb\" target=\"_parent\"><img src=\"https://colab.research.google.com/assets/colab-badge.svg\" alt=\"Open In Colab\"/></a>"
      ]
    },
    {
      "cell_type": "markdown",
      "metadata": {
        "id": "QNXGZdCxLGHK"
      },
      "source": [
        "# Stay, Don't Leave! \n",
        "## Predicting employee churn at a hi-tech startup\n",
        "\n",
        "Human capital is probably the most important asset of any company, especially as the world moves towards the knowledge economy employees is a very important aspect of any organization. The cost associated with the departure of employees is typically high, as departing employees leave with significant tribal knowledge and it is often difficult to replace employees with niche skills. Employee churn not only leads to loss of productivity, and delayed timelines, but might also have a significant impact on the brand image of the company. This case study examines why are employees leaving this startup and build a predictive model to compute the probability of high risk employees. Once the HR department is aware of who might potentially leave the company, they can take steps to retain them if they are desirable employees.\n",
        "\n",
        "\n",
        "\n",
        "This case focuses on:\n",
        "1. Exploratory data analysis\n",
        "2. Classification\n",
        "3. Model evaluation"
      ]
    },
    {
      "cell_type": "markdown",
      "metadata": {
        "id": "Rkfbdfhx-gyo"
      },
      "source": [
        "# New Section"
      ]
    },
    {
      "cell_type": "markdown",
      "metadata": {
        "id": "enB5dFbRQRP0"
      },
      "source": [
        "**Load the Data files**"
      ]
    },
    {
      "cell_type": "code",
      "metadata": {
        "id": "5cSb71oLOsu_"
      },
      "source": [
        "! git clone https://github.com/vibsabhishek/EP290.git"
      ],
      "execution_count": null,
      "outputs": []
    },
    {
      "cell_type": "code",
      "metadata": {
        "id": "6mx5UGIoP-2O"
      },
      "source": [
        "! rm -rf EP290"
      ],
      "execution_count": null,
      "outputs": []
    },
    {
      "cell_type": "markdown",
      "metadata": {
        "id": "HyBN0hmuLGHR"
      },
      "source": [
        "## Load the imporant libraries for EDA"
      ]
    },
    {
      "cell_type": "code",
      "metadata": {
        "id": "a10bXx_pLGHS"
      },
      "source": [
        "#Import modules\n",
        "import pandas  # for dataframes\n",
        "import numpy as np\n",
        "import matplotlib.pyplot as plt # for plotting graphs\n",
        "import seaborn as sns # for plotting graphs\n",
        "from scipy.stats import gaussian_kde"
      ],
      "execution_count": null,
      "outputs": []
    },
    {
      "cell_type": "markdown",
      "metadata": {
        "id": "JgVYlyFWLGHV"
      },
      "source": [
        "## Load and explore the dataset"
      ]
    },
    {
      "cell_type": "code",
      "metadata": {
        "id": "Heg4CmtVLGHV"
      },
      "source": [
        "hr_data=pandas.read_csv('EP290/HR_tech_startup.csv')"
      ],
      "execution_count": null,
      "outputs": []
    },
    {
      "cell_type": "code",
      "metadata": {
        "id": "vq1hhXM9LGHV"
      },
      "source": [
        "hr_data.head()"
      ],
      "execution_count": null,
      "outputs": []
    },
    {
      "cell_type": "markdown",
      "metadata": {
        "id": "DTV8oB9_LGHV"
      },
      "source": [
        "**Q1. Generate the summary statistics for the data**\n"
      ]
    },
    {
      "cell_type": "code",
      "metadata": {
        "id": "A5wnsf6VQZBj"
      },
      "source": [
        "#Fill code here"
      ],
      "execution_count": null,
      "outputs": []
    },
    {
      "cell_type": "code",
      "metadata": {
        "id": "OYUpZRU0Umon"
      },
      "source": [
        "hr_data.describe()"
      ],
      "execution_count": null,
      "outputs": []
    },
    {
      "cell_type": "markdown",
      "metadata": {
        "id": "ZD69XV11LGHW"
      },
      "source": [
        "**Q2. Generate the correlation between different features in the data**"
      ]
    },
    {
      "cell_type": "code",
      "metadata": {
        "id": "CbEfbXpnQcMZ"
      },
      "source": [
        "#Fill code here"
      ],
      "execution_count": null,
      "outputs": []
    },
    {
      "cell_type": "code",
      "metadata": {
        "id": "FEFigxGrUdQO"
      },
      "source": [
        "hr_data.corr()"
      ],
      "execution_count": null,
      "outputs": []
    },
    {
      "cell_type": "markdown",
      "metadata": {
        "id": "XquJoZ-mLGHW"
      },
      "source": [
        "## Visualize the data"
      ]
    },
    {
      "cell_type": "markdown",
      "metadata": {
        "id": "TjWkv29MLGHW"
      },
      "source": [
        "### Histogram for number of projects by different employees"
      ]
    },
    {
      "cell_type": "code",
      "metadata": {
        "id": "eP1fjqDALGHW"
      },
      "source": [
        "num_projects=hr_data.groupby('number_project').count()\n",
        "plt.bar(num_projects.index.values, num_projects['satisfaction_level'])\n",
        "plt.xlabel('Number of Projects')\n",
        "plt.ylabel('Number of Employees')\n",
        "plt.show()"
      ],
      "execution_count": null,
      "outputs": []
    },
    {
      "cell_type": "markdown",
      "metadata": {
        "id": "OkJ9bpD3LGHX"
      },
      "source": [
        "### Histogram for salary levels"
      ]
    },
    {
      "cell_type": "code",
      "metadata": {
        "id": "uzzZmJHzLGHX"
      },
      "source": [
        "salary = hr_data['salary'].value_counts()\n",
        "salary.plot(kind='barh')\n",
        "plt.xlabel('Number of Employees')\n",
        "plt.ylabel('Salary')\n",
        "plt.show()"
      ],
      "execution_count": null,
      "outputs": []
    },
    {
      "cell_type": "markdown",
      "metadata": {
        "id": "A6gvRxy5LGHX"
      },
      "source": [
        "**Q3. Plot the distribution of last evaluation"
      ]
    },
    {
      "cell_type": "code",
      "metadata": {
        "id": "riM9-GkHQ2cN"
      },
      "source": [
        "#Fill code here"
      ],
      "execution_count": null,
      "outputs": []
    },
    {
      "cell_type": "code",
      "metadata": {
        "id": "EcIru7SbSXWN"
      },
      "source": [
        "hr_data[\"last_evaluation\"].plot.hist()"
      ],
      "execution_count": null,
      "outputs": []
    },
    {
      "cell_type": "markdown",
      "metadata": {
        "id": "TkMjH2S_LGHX"
      },
      "source": [
        "**Q4. What department is the largest based on employee strength?**"
      ]
    },
    {
      "cell_type": "code",
      "metadata": {
        "id": "Nwdtxqm3TyDl"
      },
      "source": [
        "#Fill code here"
      ],
      "execution_count": null,
      "outputs": []
    },
    {
      "cell_type": "code",
      "metadata": {
        "id": "Lw3CwCE_T1Bn"
      },
      "source": [
        "department_data = hr_data[\"Departments\"].value_counts()\n",
        "department_data.plot(kind='barh')\n",
        "plt.xlabel('Number of Employees')\n",
        "plt.ylabel('Department')\n",
        "plt.show()"
      ],
      "execution_count": null,
      "outputs": []
    },
    {
      "cell_type": "markdown",
      "metadata": {
        "id": "uV0bNeM3Q7QA"
      },
      "source": [
        "Which department?"
      ]
    },
    {
      "cell_type": "markdown",
      "metadata": {
        "id": "CFBQRLzELGHY"
      },
      "source": [
        "## Understanding why employees are leaving the company"
      ]
    },
    {
      "cell_type": "markdown",
      "metadata": {
        "id": "oeMj493LLGHY"
      },
      "source": [
        "**Q5. Plot the distribution of the working hours.**\n",
        "\n"
      ]
    },
    {
      "cell_type": "code",
      "metadata": {
        "id": "0BxpMj3JRAU-"
      },
      "source": [
        "#Fill code here"
      ],
      "execution_count": null,
      "outputs": []
    },
    {
      "cell_type": "code",
      "metadata": {
        "id": "rnJqmZdHXP6X"
      },
      "source": [
        "hr_data[\"average_montly_hours\"].plot.hist()"
      ],
      "execution_count": null,
      "outputs": []
    },
    {
      "cell_type": "markdown",
      "metadata": {
        "id": "qPRSJrqERD0w"
      },
      "source": [
        "\n",
        "What does this histogram tell you? - Write your answer here. "
      ]
    },
    {
      "cell_type": "markdown",
      "metadata": {
        "id": "gci9SVUxLGHY"
      },
      "source": [
        "**Q6. Are the working hours correlated with job satisfaction and the proclivity to leave? What does this indicate?**"
      ]
    },
    {
      "cell_type": "code",
      "metadata": {
        "id": "erdibWmZRlTo"
      },
      "source": [
        "#Fill code here"
      ],
      "execution_count": null,
      "outputs": []
    },
    {
      "cell_type": "code",
      "metadata": {
        "id": "DvaJ5c-UXjC8"
      },
      "source": [
        "hr_data[\"average_montly_hours\"].corr(hr_data[\"satisfaction_level\"])"
      ],
      "execution_count": null,
      "outputs": []
    },
    {
      "cell_type": "code",
      "metadata": {
        "id": "vFFtYXTDr0TC"
      },
      "source": [
        "hr_data[\"average_montly_hours\"].corr(hr_data[\"left\"])"
      ],
      "execution_count": null,
      "outputs": []
    },
    {
      "cell_type": "markdown",
      "metadata": {
        "id": "c-mfb4rFRoGN"
      },
      "source": [
        "What does the previous analysis tell you?"
      ]
    },
    {
      "cell_type": "markdown",
      "metadata": {
        "id": "p2Kp6YdlLGHY"
      },
      "source": [
        "**Q7. Show these relationships visually.**"
      ]
    },
    {
      "cell_type": "code",
      "metadata": {
        "id": "m42uiDv1RyQI"
      },
      "source": [
        "#Fill code here that shows the relationship between working hours and job satisfaction "
      ],
      "execution_count": null,
      "outputs": []
    },
    {
      "cell_type": "code",
      "metadata": {
        "id": "TwfDkbDzYu4U"
      },
      "source": [
        "plt.scatter(hr_data[\"average_montly_hours\"], hr_data[\"satisfaction_level\"])"
      ],
      "execution_count": null,
      "outputs": []
    },
    {
      "cell_type": "code",
      "metadata": {
        "id": "wAhe6E1WXr_5"
      },
      "source": [
        "sns.scatterplot(hr_data[\"average_montly_hours\"], hr_data[\"satisfaction_level\"], hue=hr_data[\"left\"])"
      ],
      "execution_count": null,
      "outputs": []
    },
    {
      "cell_type": "code",
      "metadata": {
        "id": "t66L-EeEZpo4"
      },
      "source": [
        "# color by density\n",
        "\n",
        "x = hr_data[\"average_montly_hours\"]\n",
        "y = hr_data[\"satisfaction_level\"]\n",
        "\n",
        "# Calculate the point density\n",
        "xy = np.vstack([x,y])\n",
        "z = gaussian_kde(xy)(xy)\n",
        "\n",
        "# Sort the points by density, so that the densest points are plotted last\n",
        "idx = z.argsort()\n",
        "x, y, z = x[idx], y[idx], z[idx]\n",
        "\n",
        "fig, ax = plt.subplots()\n",
        "ax.scatter(x, y, c=z, s=50)\n",
        "plt.show()\n"
      ],
      "execution_count": null,
      "outputs": []
    },
    {
      "cell_type": "code",
      "metadata": {
        "id": "VSWYO_VJbQh4"
      },
      "source": [
        "sns.scatterplot(x, y, hue=hr_data[\"Departments \"])\n"
      ],
      "execution_count": null,
      "outputs": []
    },
    {
      "cell_type": "markdown",
      "metadata": {
        "id": "yNglzg2LLGHZ"
      },
      "source": [
        "**Q8. Perform analysis to determine who is leaving and why?** \n",
        "\n",
        "Are there distinct employee segments that are inclined to leave they company? Are the reasons for their departures similar? What insights can you draw from the exploratory analysis? (Hint: see how the left variable is associated with other features)"
      ]
    },
    {
      "cell_type": "markdown",
      "metadata": {
        "id": "XBLcSv2HLGHZ"
      },
      "source": [
        "# Machine Learning - Classification"
      ]
    },
    {
      "cell_type": "markdown",
      "metadata": {
        "id": "2rxk8_YaLGHZ"
      },
      "source": [
        "## Import ML libararies. \n",
        "sklearn is the workhorse ML package in Python"
      ]
    },
    {
      "cell_type": "code",
      "metadata": {
        "id": "wZDps-9ALGHZ"
      },
      "source": [
        "# Import LabelEncoder for converting categorical variables into numerical (dummy) variables\n",
        "from sklearn import preprocessing as prep\n",
        "\n",
        "#Import train_test_split function\n",
        "from sklearn.model_selection import train_test_split\n",
        "\n",
        "#Classification models\n",
        "from sklearn.linear_model import LogisticRegression\n",
        "from sklearn.tree import DecisionTreeClassifier\n",
        "from sklearn.naive_bayes import GaussianNB\n",
        "from sklearn.svm import SVR\n",
        "from sklearn.neural_network import MLPClassifier\n",
        "\n",
        "#Import scikit-learn metrics module for accuracy calculation\n",
        "from sklearn import metrics"
      ],
      "execution_count": null,
      "outputs": []
    },
    {
      "cell_type": "code",
      "metadata": {
        "id": "0GTAN6zrLGHa"
      },
      "source": [
        "#creating labelEncoder\n",
        "le = prep.LabelEncoder()\n",
        "\n",
        "# Converting categorical variables into numberic variables\n",
        "hr_data['salary']=le.fit_transform(hr_data['salary'])\n",
        "hr_data['Departments']=le.fit_transform(hr_data['Departments'])"
      ],
      "execution_count": null,
      "outputs": []
    },
    {
      "cell_type": "markdown",
      "metadata": {
        "id": "80y2BdXQLGHa"
      },
      "source": [
        "### Split the data into predictors and outcome"
      ]
    },
    {
      "cell_type": "code",
      "metadata": {
        "id": "U5KBMsOALGHa"
      },
      "source": [
        "X=hr_data[['satisfaction_level', 'last_evaluation', 'number_project',\n",
        "       'average_montly_hours', 'time_spend_company', 'Work_accident',\n",
        "       'promotion_last_5years', 'Departments', 'salary']]\n",
        "X_labels = ['satisfaction_level', 'last_evaluation', 'number_project',\n",
        "       'average_montly_hours', 'time_spend_company', 'Work_accident',\n",
        "       'promotion_last_5years', 'Departments', 'salary']\n",
        "y=hr_data['left']"
      ],
      "execution_count": null,
      "outputs": []
    },
    {
      "cell_type": "markdown",
      "metadata": {
        "id": "qc5Rs3BiLGHa"
      },
      "source": [
        "### Split dataset into training set and test set\n",
        "\n",
        "Note that here we are choosing 70% of the data to train the model and 30% of the data to test the model. Later on, you will see how changing this parameter affects the model performance."
      ]
    },
    {
      "cell_type": "code",
      "metadata": {
        "id": "ic3AXHCuLGHb"
      },
      "source": [
        "X_train, X_test, y_train, y_test = train_test_split(X, y, test_size=0.3, random_state=42)  # 70% training and 30% test"
      ],
      "execution_count": null,
      "outputs": []
    },
    {
      "cell_type": "markdown",
      "metadata": {
        "id": "1Y-rAziWLGHb"
      },
      "source": [
        "### Build a Logistic Regression model"
      ]
    },
    {
      "cell_type": "code",
      "metadata": {
        "id": "N2gnVk5VLGHb"
      },
      "source": [
        "#Create Logistic Regression Classifier\n",
        "lr = LogisticRegression()\n",
        "\n",
        "#Train the LR model \n",
        "lr.fit(X_train, y_train)\n",
        "\n",
        "#Predict the outcome for Test data\n",
        "lr_y_pred = lr.predict(X_test)"
      ],
      "execution_count": null,
      "outputs": []
    },
    {
      "cell_type": "code",
      "metadata": {
        "id": "GZZKtsC0LGHc"
      },
      "source": [
        "# Model Accuracy, how often is the classifier correct?\n",
        "print(\"Accuracy:\",metrics.accuracy_score(y_test, lr_y_pred))\n",
        "\n",
        "# Model Precision\n",
        "print(\"Precision:\",metrics.precision_score(y_test, lr_y_pred))\n",
        "\n",
        "# Model Recall\n",
        "print(\"Recall:\",metrics.recall_score(y_test, lr_y_pred))\n",
        "\n",
        "# Confusion matrix\n",
        "print(\"Confusion matrix:\\n\", metrics.confusion_matrix(y_test, lr_y_pred))"
      ],
      "execution_count": null,
      "outputs": []
    },
    {
      "cell_type": "markdown",
      "metadata": {
        "id": "0CPxtY7bLGHc"
      },
      "source": [
        "**Q9. What is the accuracy of the Logistic Regrssion Model? How many times does it incorrectly predict that someone is leaving but they don't?**"
      ]
    },
    {
      "cell_type": "markdown",
      "metadata": {
        "id": "P6c7F-ECdCwK"
      },
      "source": [
        "** Fill answer here**"
      ]
    },
    {
      "cell_type": "markdown",
      "metadata": {
        "id": "zec9-ABxLGHc"
      },
      "source": [
        "**Q10. Vary the test_size parameter in the train_test_split function and see how the accuracy changes. Plot the accuracy w.r.t. to this parameter.**"
      ]
    },
    {
      "cell_type": "code",
      "metadata": {
        "id": "TvxrqfTXdHq4"
      },
      "source": [
        "#Fill code here\n",
        "test_sizes = [*fill in the different values you tried here, separated by commas*]\n",
        "accuracies = [*fill in the accuracy levels get here, separated by commas*]\n",
        "\n",
        "plt.plot(test_sizes, accuracies)"
      ],
      "execution_count": null,
      "outputs": []
    },
    {
      "cell_type": "code",
      "metadata": {
        "id": "a479RUrbdt8n"
      },
      "source": [
        "#Fill code here\n",
        "train_sizes = [.5, .6, .7, .8, .9]\n",
        "accuracies = [0.60, 0.79, 0.85, 0.75, 0.70]\n",
        "\n",
        "plt.plot(train_sizes, accuracies)\n",
        "\n",
        "plt.xlabel(\"Training Size\")\n",
        "plt.ylabel(\"Accuracy\")\n",
        "\n",
        "plt.show()\n"
      ],
      "execution_count": null,
      "outputs": []
    },
    {
      "cell_type": "code",
      "metadata": {
        "id": "FUoO8zShLGHd"
      },
      "source": [
        "#Create Decison Tree  Classifier\n",
        "dt = DecisionTreeClassifier()\n",
        "\n",
        "#Train the DT model \n",
        "dt.fit(X_train, y_train)\n",
        "\n",
        "#Predict the outcome for Test data\n",
        "dt_y_pred = dt.predict(X_test)"
      ],
      "execution_count": null,
      "outputs": []
    },
    {
      "cell_type": "markdown",
      "metadata": {
        "id": "7BTfW1BULGHd"
      },
      "source": [
        "**Q11. Compare the Decision Tree Classifier with the Logistic Regression (use a 70/30 split for training/test)**"
      ]
    },
    {
      "cell_type": "code",
      "metadata": {
        "id": "xXuJD_SRfz_G"
      },
      "source": [
        ""
      ],
      "execution_count": null,
      "outputs": []
    },
    {
      "cell_type": "code",
      "metadata": {
        "id": "Ovw9xAQkfqxy"
      },
      "source": [
        "# Model Accuracy, how often is the classifier correct?\n",
        "print(\"Accuracy:\",metrics.accuracy_score(y_test, dt_y_pred))\n",
        "\n",
        "# Model Precision\n",
        "print(\"Precision:\",metrics.precision_score(y_test, dt_y_pred))\n",
        "\n",
        "# Model Recall\n",
        "print(\"Recall:\",metrics.recall_score(y_test, dt_y_pred))\n",
        "\n",
        "# Confusion matrix\n",
        "print(\"Confusion matrix:\\n\", metrics.confusion_matrix(y_test, dt_y_pred))"
      ],
      "execution_count": null,
      "outputs": []
    },
    {
      "cell_type": "markdown",
      "metadata": {
        "id": "7HFKMgTHLGHd"
      },
      "source": [
        "**Q12. Compare different models such as MultinomialNB, SVM, MLPClassifier. Which model performs best on this data set?**"
      ]
    },
    {
      "cell_type": "code",
      "metadata": {
        "id": "XJMNExLdLGHd"
      },
      "source": [
        "#Fill code here\n",
        "\n",
        "nb = GaussianNB()\n",
        "\n",
        "#Fill in code for training, testing and measuring accuracy\n",
        "\n",
        "svm = SVR()\n",
        "\n",
        "#Fill in code for training, testing and measuring accuracy\n",
        "\n",
        "nn = MLPClassifier()\n",
        "\n",
        "#Fill in code for training, testing and measuring accuracy\n",
        "\n",
        "\n"
      ],
      "execution_count": null,
      "outputs": []
    }
  ]
}